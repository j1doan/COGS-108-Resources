{
 "cells": [
  {
   "attachments": {},
   "cell_type": "markdown",
   "metadata": {},
   "source": [
    "# Lecture 7: Descriptive and Exploratory Analysis"
   ]
  },
  {
   "attachments": {},
   "cell_type": "markdown",
   "metadata": {},
   "source": [
    "## Descriptive Analysis\n",
    "\n",
    "The goal of descriptive analysis is to understand the components of a dataset, describe what they are, and explain that description to others who might want to understand the data."
   ]
  },
  {
   "attachments": {},
   "cell_type": "markdown",
   "metadata": {},
   "source": [
    "### Example: YouTube Comments\n",
    "\n",
    "Problem: Understanding whether users are nice or mean on YouTube.\n",
    "\n",
    "Data Science Question: Are the words that people use in their comments more frequently positive words (great, awesome, nice, useful) or negative words (bad, stupid, lame, awful)?\n",
    "\n",
    "Type of analysis: Descriptive analysis.\n",
    "\n",
    "To answer this, you would calcualte **statistics** about YouTube comments."
   ]
  },
  {
   "attachments": {},
   "cell_type": "markdown",
   "metadata": {},
   "source": [
    "## Statistics\n",
    "\n",
    "\"The science that deals with the collection, classification, analysis, and interpretation of numerical facts or data.\"\n",
    "\n",
    "*Or alternatively,*\n",
    "\n",
    "\"A quantity computed from a sample.\""
   ]
  },
  {
   "attachments": {},
   "cell_type": "markdown",
   "metadata": {},
   "source": [
    "For our YouTube analysis, we could take a **random sample** of comments from YouTube and calculate the following statistic: the number of positive and negative words in each review."
   ]
  },
  {
   "attachments": {},
   "cell_type": "markdown",
   "metadata": {},
   "source": [
    "### Best Sampling Practices\n",
    "\n",
    "* Always think about what your population is\n",
    "* Collect data from a sample that is representative of your population\n",
    "* If you have no choice but to work with a dataset that is not collected randomly and is biased, be careful not to generalize your results to the entire population\n",
    "\n",
    "You'd want to be sure you sample randomly across *all* YouTube comments, making sure not to get more comments from one genre over another, or one locaiton over another, etc."
   ]
  },
  {
   "attachments": {},
   "cell_type": "markdown",
   "metadata": {},
   "source": [
    "### Examples of Bad Sampling\n",
    "\n",
    "* Surveying subscribers of a Marvel movie magazine for research on Americans' attitudes towards DC movies\n",
    "* Randomly sampling Facebook users for what TV shows people like\n",
    "\n",
    "To understand *all* YouTube comments, you wouldn't just want to sample from one YouTube channel, or videos in a single language."
   ]
  },
  {
   "attachments": {},
   "cell_type": "markdown",
   "metadata": {},
   "source": [
    "## GIGO: Garbage In, Garbage Out\n",
    "\n",
    "It's always worth spending time at the beginning of a project to determine whether or not the data you have are garbage. Be certain they are actually able to help you answer the question you're interested in."
   ]
  },
  {
   "attachments": {},
   "cell_type": "markdown",
   "metadata": {},
   "source": [
    "## Descriptive Analysis"
   ]
  },
  {
   "attachments": {},
   "cell_type": "markdown",
   "metadata": {},
   "source": [
    "### Size\n",
    "\n",
    "How many **observations (rows)** and **variables (columns)** you have is an important first step. YOu should always be aware of the **size** of your dataset."
   ]
  },
  {
   "attachments": {},
   "cell_type": "markdown",
   "metadata": {},
   "source": [
    "### Missingness\n",
    "\n",
    "It's critical to know **how many observations have missing data** for variables of interest in your data. Knowing *why* they're missing is also important."
   ]
  },
  {
   "attachments": {},
   "cell_type": "markdown",
   "metadata": {},
   "source": [
    "### Shape\n",
    "\n",
    "It's critical to know **the distribution of the variables** in your dataset. Certain statistical approaches in can only be used with certain distributions."
   ]
  },
  {
   "attachments": {},
   "cell_type": "markdown",
   "metadata": {},
   "source": [
    "### Central Tendency\n",
    "\n",
    "Knowing the **mean, median, and/or mode** can help you get an idea of what a typical value is for your variable(s) of interest."
   ]
  },
  {
   "attachments": {},
   "cell_type": "markdown",
   "metadata": {},
   "source": [
    "### Variability\n",
    "\n",
    "The central tendency tells you part of the story. The **variablity in the values** in your observation helps fill in the rest."
   ]
  },
  {
   "attachments": {},
   "cell_type": "markdown",
   "metadata": {},
   "source": [
    "#### Which of the following is NOT something accomplished by a descriptive analysis?\n",
    "\n",
    "A) Describes typical values in your dataset\n",
    "\n",
    "B) Determines the size of your dataset\n",
    "\n",
    "**C) Establishes causal relationships between variables**\n",
    "\n",
    "D) Identifies missing data\n",
    "\n",
    "E) Determine how variable values in your dataset are"
   ]
  },
  {
   "attachments": {},
   "cell_type": "markdown",
   "metadata": {},
   "source": [
    "## Descriptive Statistics and Summary\n",
    "\n",
    "Descriptive analysis are often included in \"Table 1\" in academic publications.\n",
    "\n",
    "* Zooming in on this we see variables **stratified** by age, sex, and race.\n",
    "* Calculating descriptive statistics, understanding what they tell you about the data, and reporting them are critical steps in every analysis."
   ]
  },
  {
   "attachments": {},
   "cell_type": "markdown",
   "metadata": {},
   "source": [
    "## Exploratory Analysis\n",
    "\n",
    "The goal is to find unknown relationships between the variables you have measured in your dataset. Exploratory analysis is open ended and designed to verify expected or find unexpected relationships between measurements."
   ]
  },
  {
   "attachments": {},
   "cell_type": "markdown",
   "metadata": {},
   "source": [
    "### Why EDA?\n",
    "\n",
    "* Discover data properties\n",
    "* Discover patterns\n",
    "* Generate and frame hypothesis\n",
    "* Suggest modeling strategies\n",
    "* Check assumptions (sanity check)\n",
    "* Communicate results (present data)"
   ]
  },
  {
   "attachments": {},
   "cell_type": "markdown",
   "metadata": {},
   "source": [
    "### The General Principles of Exploratory Analysis\n",
    "\n",
    "* Look for missing values\n",
    "* Look for outlier values\n",
    "* Calculate numerical summaries\n",
    "* Generate plots to explore relationships\n",
    "* Use tables to explore relationships\n",
    "* If necessary, transform variables"
   ]
  },
  {
   "attachments": {},
   "cell_type": "markdown",
   "metadata": {},
   "source": [
    "### EDA Approaches to \"Get a Feel for the Data\"\n",
    "\n",
    "Understanding the relationship between variables in your dataset\n",
    "\n",
    "* Univariate\n",
    "    * Understanding a single variable\n",
    "    * Histogram, desnity plot, bar plot\n",
    "* Bivariate\n",
    "    * Understanding the relationship between 2 variables\n",
    "    * Boxplot, scatter plot, grouped barplot/box plot\n",
    "* Dimensionality Reduction\n",
    "    * Projecting high-D data into a lower-D space\n",
    "    * PCA, ICA, clustering"
   ]
  }
 ],
 "metadata": {
  "kernelspec": {
   "display_name": "Python 3",
   "language": "python",
   "name": "python3"
  },
  "language_info": {
   "name": "python",
   "version": "3.10.3"
  },
  "orig_nbformat": 4,
  "vscode": {
   "interpreter": {
    "hash": "3fe2205da32040b154459eec850e3f422ef2283e8249ac36b1b4a45364cc60d7"
   }
  }
 },
 "nbformat": 4,
 "nbformat_minor": 2
}
