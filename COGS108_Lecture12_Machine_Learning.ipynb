{
 "cells": [
  {
   "attachments": {},
   "cell_type": "markdown",
   "metadata": {},
   "source": [
    "# Lecture 12: Machine Learning"
   ]
  },
  {
   "attachments": {},
   "cell_type": "markdown",
   "metadata": {},
   "source": [
    "**Predictive:** Apply machine learning techniques to data you have currently to generate a model that will be able to make a prediction on future data."
   ]
  },
  {
   "attachments": {},
   "cell_type": "markdown",
   "metadata": {},
   "source": [
    "**Problem:** Detecting whether credit card charges are fradulent.\n",
    "\n",
    "**Data science question:** Can we use the time of the charge, the location of the charge, and the price of the charge to predict whether that charge is fradulent or not?\n",
    "\n",
    "**Type of analysis:** Predictive analysis"
   ]
  },
  {
   "attachments": {},
   "cell_type": "markdown",
   "metadata": {},
   "source": [
    "Predictive analysis uses data you have now to make predictions in the future.\n",
    "\n",
    "Machine learning approaches are used for predictive analysis!"
   ]
  },
  {
   "attachments": {},
   "cell_type": "markdown",
   "metadata": {},
   "source": [
    "## The Main Types of Machine Learning\n",
    "\n",
    "* **Classical ML:**: Simple data, clear features\n",
    "* **Reinforcement Learning:** No data, but we have an environment to interact with\n",
    "* **Ensembles:** When quality is a real problem\n",
    "* **Neural Networks and Deep Learning:** Complicated data, unclear features, belief in a miracle"
   ]
  },
  {
   "attachments": {},
   "cell_type": "markdown",
   "metadata": {},
   "source": [
    "## Machine Learning Generalizations"
   ]
  },
  {
   "attachments": {},
   "cell_type": "markdown",
   "metadata": {},
   "source": [
    "### Basic Steps to Prediction\n",
    "\n",
    "* Data partitioning\n",
    "* Feature selection\n",
    "* Model selection\n",
    "* Model assessment"
   ]
  },
  {
   "attachments": {},
   "cell_type": "markdown",
   "metadata": {},
   "source": [
    "#### Data Partitioning\n",
    "\n",
    "* The data used to build your predictive model -> Training Data\n",
    "* Data from the original dataset that was held out and not used in training the model; helpful in fine-tuning prediction accuracy -> Test Data\n",
    "* New and independent data set used to assess if prediction model is generalizable -> Validation Data"
   ]
  },
  {
   "attachments": {},
   "cell_type": "markdown",
   "metadata": {},
   "source": [
    "**CLICKER QUESTION:**\n",
    "\n",
    "What portion of the data are typically used for generating the model?\n",
    "\n",
    "A) The entire dataset\n",
    "\n",
    "B) The training data\n",
    "\n",
    "C) The testing data\n",
    "\n",
    "D) The validation data"
   ]
  },
  {
   "attachments": {},
   "cell_type": "markdown",
   "metadata": {},
   "source": [
    "#### Feature Selection\n",
    "\n",
    "* **Feature selection** determines which variables are most predictive and includes them in the model\n",
    "* Variables that can be used for accurate prediction exploit the relationship between the variables but do not mean the one causes the other"
   ]
  },
  {
   "attachments": {},
   "cell_type": "markdown",
   "metadata": {},
   "source": [
    "## Two Modes of Machine Learning\n",
    "\n",
    "* **Supervised Learning:** You tell the computer what features to use to classify the observations\n",
    "* **Unsupervised Learning:** The computer determines how to classify based on properties within the data"
   ]
  },
  {
   "attachments": {},
   "cell_type": "markdown",
   "metadata": {},
   "source": [
    "## Approaches to Machine Learning\n",
    "\n",
    "**Supervised Learning**\n",
    "\n",
    "* Classification with categorical variables\n",
    "* Regression with continuous variables\n",
    "\n",
    "**Unsupervised Learning**\n",
    "\n",
    "* Clustering (categorical) and dimensionality reduction (continuous)\n",
    "* Can automatically structure in data"
   ]
  },
  {
   "attachments": {},
   "cell_type": "markdown",
   "metadata": {},
   "source": [
    "### Model Selection\n",
    "\n",
    "*Big datasets with simple models?*"
   ]
  },
  {
   "attachments": {},
   "cell_type": "markdown",
   "metadata": {},
   "source": [
    "#### Regression vs. Classification\n",
    "\n",
    "**Regression**\n",
    "\n",
    "*\"Draw a line through these dots. Yup, that's the machine learning.\"*\n",
    "\n",
    "Uses:\n",
    "\n",
    "* Stock price forecasts\n",
    "* Demand and sales volume analysis\n",
    "* Medical diagnosis\n",
    "* Any number-time correlations\n",
    "\n",
    "Popular algorithms: Linear regression, Polynomial regression\n",
    "\n",
    "**Classification**\n",
    "\n",
    "*\"Splits objects based on one of the attributes known beforehand. Separate socks by color, documents based on language, music by genre.\"*\n",
    "\n",
    "Uses:\n",
    "\n",
    "* Spam filtering\n",
    "* Language Detection\n",
    "* A search of similar documents\n",
    "* Sentiment analysis\n",
    "* Recognition of handwritten characters and numbers\n",
    "* Fraud detection\n",
    "\n",
    "Popular algorithms: Naive Bayes, Decision Tree, Logistic Regression, K-nearest Neighbors, Support Vector Machine"
   ]
  },
  {
   "attachments": {},
   "cell_type": "markdown",
   "metadata": {},
   "source": [
    "#### Regression: Predicting Continuous Variables\n",
    "\n",
    "* We will use the linear relationship between variables to generate a **predictive model**\n",
    "* The training data will be used to build the predictive model\n",
    "* Use linear regression to model the relationship\n",
    "* For prediction, the individual values in the training data are not important; we only need the model"
   ]
  },
  {
   "attachments": {},
   "cell_type": "markdown",
   "metadata": {},
   "source": [
    "#### Classification: Predicting Categorical Variables\n",
    "\n",
    "* Calculate outcomes with **decision trees**!"
   ]
  },
  {
   "attachments": {},
   "cell_type": "markdown",
   "metadata": {},
   "source": [
    "## Unsupervised Learning"
   ]
  },
  {
   "attachments": {},
   "cell_type": "markdown",
   "metadata": {},
   "source": [
    "**Clustering**\n",
    "\n",
    "*\"Divides objects based on unknown features. Machine chooses the best way.\"*\n",
    "\n",
    "Uses:\n",
    "\n",
    "* For market segmentation (types of customers, loyalty)\n",
    "* To merge close points on a map\n",
    "* For image compressions\n",
    "* To analyze and label new data\n",
    "* To detect abnormal behavior\n",
    "\n",
    "Popular algorithms: K-means clustering, Mean-Shift, DBSCAN\n",
    "\n",
    "**Dimensionality Reduction (Generalization)**\n",
    "\n",
    "*\"Assembles specific features into more high-level ones.\"*\n",
    "\n",
    "Uses:\n",
    "\n",
    "* Recommender systems\n",
    "* Beautiful visualizations\n",
    "* Topic modeling and similar document search\n",
    "* Fake image analysis\n",
    "* Risk management\n",
    "\n",
    "Popular algorithms: Principal Component Analysis (PCA), Singular Value Decomposition (SVD), Latent Dirichlet Allocation (LDA), Latent Semantic Analysis (LSA, pLSA, GLSA), t-Distributed Stochastic Neighbor Embedding (t-SNE)"
   ]
  },
  {
   "attachments": {},
   "cell_type": "markdown",
   "metadata": {},
   "source": [
    "### Illustrating the K-Means Method: Putting Kebab Kiosks in the Optimal Way\n",
    "\n",
    "1. Put kebab kiosks in random places in the city\n",
    "2. Watch how buyers choose the nearest one\n",
    "3. Move kiosks closer to the centers of their popularity\n",
    "4. Watch and move again\n",
    "5. Repeat a million times\n",
    "6. Voilà! You are now the kebab master!"
   ]
  },
  {
   "attachments": {},
   "cell_type": "markdown",
   "metadata": {},
   "source": [
    "**CLICKER QUESTION:**\n",
    "\n",
    "You want to predict someone's emotion based on an image. How would you approach this with machine learning?\n",
    "\n",
    "A) Supervised, Regression\n",
    "\n",
    "B) Supervised, Classification\n",
    "\n",
    "C) Unsupervised, Dimensionality Reduction\n",
    "\n",
    "D) Unsupervised, Clustering\n",
    "\n",
    "E) Unsupervised, Neural Network"
   ]
  },
  {
   "attachments": {},
   "cell_type": "markdown",
   "metadata": {},
   "source": [
    "**Neural Networks**\n",
    "\n",
    "*\"We have a thousand-layer network, dozens of video cards, but still no idea where to use it. Let's generate cat pics!\"*\n",
    "\n",
    "Uses:\n",
    "\n",
    "* Replacement of all algorithms discussed above\n",
    "* Object classification on photos and videos\n",
    "* Speech recognition and synthesis\n",
    "* Image processing, style transfer\n",
    "* Machine translation\n",
    "\n",
    "Popular algorithms: Perceptron, Convolutional Neural Networks (CNN), Recurrent Neural Networks (RNN), Autoencoders"
   ]
  },
  {
   "attachments": {},
   "cell_type": "markdown",
   "metadata": {},
   "source": [
    "## Neurons vs. Mathematical Neurons\n",
    "\n",
    "**Biological Neuron**\n",
    "\n",
    "* Recieves signal on synapse\n",
    "* When trigger sends signal on action\n",
    "\n",
    "**Mathematical Neuron**\n",
    "\n",
    "* Mathematical abstraction, inspired by biological neuron\n",
    "* Either on or off based on sum of input"
   ]
  },
  {
   "attachments": {},
   "cell_type": "markdown",
   "metadata": {},
   "source": [
    "### Weights\n",
    "\n",
    "* Tell the neuron to respond more to one input and less to another\n",
    "* Adjusted when training, unless an adaptive network is involved"
   ]
  },
  {
   "attachments": {},
   "cell_type": "markdown",
   "metadata": {},
   "source": [
    "### Multilayer Perceptron (MLP)\n",
    "\n",
    "* Signals arrive at **input** nodes\n",
    "* These signals are processed through **hidden layers**\n",
    "* **Outputs** result from the algorithms applied"
   ]
  },
  {
   "attachments": {},
   "cell_type": "markdown",
   "metadata": {},
   "source": [
    "### Convolutional Neural Network (CNN)\n",
    "\n",
    "* CNNs avoid manual labeling\n",
    "* The neural network itself learns how to build important features from simple lines\n",
    "* Perceptron finds important features specific to a cat\n",
    "* *\"CNNs are all the rage right now. They are used to search for objects on photos and in videos, face recognition, style transfer, generating and enhancing images, creating effects like slow-mo and improving image quality. Nowadays CNNs are used in all the cases that involve pictures and videos.\"*"
   ]
  },
  {
   "attachments": {},
   "cell_type": "markdown",
   "metadata": {},
   "source": [
    "### Model Assessment\n",
    "\n",
    "* Root Mean Squared Error (RMSE)\n",
    "    * $RMSE = \\sqrt{\\frac{Σ(Predicted - Actual) ^ 2}{N}}$\n",
    "    * A few outliers can lead to a big increase in RMSE, even if all the other predictions are pretty good\n",
    "    * $accuracy = \\frac{\\# \\ of \\ samples \\ predicted \\ correctly}{\\# \\ of \\ samples \\ predicted}*100$"
   ]
  },
  {
   "attachments": {},
   "cell_type": "markdown",
   "metadata": {},
   "source": [
    "### Sensitivity and Specificity\n",
    "\n",
    "* A 2x2 table is a type of confusion matrix\n",
    "    * Accuracy: What % were predicted correctly?\n",
    "* $Sensitivity = \\frac{TP}{TP + FN}$\n",
    "    * Of those positives, what % were predicted to be positive?\n",
    "* $1 - Specificity = \\frac{TN}{TN + FP}$\n",
    "    * Of those negatives, what % were predicted to be negative?"
   ]
  },
  {
   "attachments": {},
   "cell_type": "markdown",
   "metadata": {},
   "source": [
    "**CLICKER QUESTION:**\n",
    "\n",
    "You're given a dataset with a number of features and have been asked to predict each individual's age. What prediction approach would you use?\n",
    "\n",
    "A) Regression (supervised)\n",
    "\n",
    "B) Classification (supervised)\n",
    "\n",
    "C) Clustering (unsupervised)\n",
    "\n",
    "D) Dimensionality reduction (unsupervised)"
   ]
  },
  {
   "attachments": {},
   "cell_type": "markdown",
   "metadata": {},
   "source": [
    "**CLICKER QUESTION:**\n",
    "\n",
    "After predicting each person's age, how would you assess your model?\n",
    "\n",
    "A) RMSE\n",
    "\n",
    "B) Accuracy\n",
    "\n",
    "C) Sensitivity\n",
    "\n",
    "D) Specificity\n",
    "\n",
    "E) AUC"
   ]
  },
  {
   "attachments": {},
   "cell_type": "markdown",
   "metadata": {},
   "source": [
    "**CLICKER QUESTION:**\n",
    "\n",
    "What would be the error value you'd want from your model?\n",
    "\n",
    "A) 0.2\n",
    "\n",
    "B) 1.3\n",
    "\n",
    "C) 2.5\n",
    "\n",
    "D) 10.0\n",
    "\n",
    "E) 20.0"
   ]
  }
 ],
 "metadata": {
  "language_info": {
   "name": "python"
  },
  "orig_nbformat": 4
 },
 "nbformat": 4,
 "nbformat_minor": 2
}
