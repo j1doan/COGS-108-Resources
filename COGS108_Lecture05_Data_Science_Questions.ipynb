{
 "cells": [
  {
   "attachments": {},
   "cell_type": "markdown",
   "metadata": {},
   "source": [
    "# Lecture 5: Data Science Questions"
   ]
  },
  {
   "attachments": {},
   "cell_type": "markdown",
   "metadata": {},
   "source": [
    "## Formulating Data Science Questions\n",
    "\n",
    "Formulating a strong question requires it be specific, can be answered with data, and makes clear what exactly is being measured."
   ]
  },
  {
   "attachments": {},
   "cell_type": "markdown",
   "metadata": {},
   "source": [
    "## Nature of a Data Scientist\n",
    "\n",
    "* Data-driven\n",
    "* Care about answers. They analyze data to discover something about how the world works\n",
    "* Care about whether the results make sense, because they care about what the answers mean\n",
    "* Are comfortable with the idea that data have errors\n",
    "* Know nothing is ever completely true or false in science, while everything is wither true or false in computer science or mathematics\n",
    "* Conscientious, works using proven and understood methods, triple checks things\n",
    "* Yet is open to new methods and creative at finding solutions (just checks them thoroughly!)\n",
    "* Methodical\n",
    "* Yet after working down in the details, takes a step back and questions the big picture"
   ]
  },
  {
   "attachments": {},
   "cell_type": "markdown",
   "metadata": {},
   "source": [
    "## Hypothesis Testing\n",
    "\n",
    "* Cannot prove hypothesis\n",
    "* Can only reect or fail to reject null hypothesis\n",
    "* Why?"
   ]
  },
  {
   "attachments": {},
   "cell_type": "markdown",
   "metadata": {},
   "source": [
    "## What makes a good data science question?\n",
    "\n",
    "* Data science questions should:\n",
    "    * Be specific\n",
    "    * Be answerable with data\n",
    "    * Specifiy what's being measured"
   ]
  },
  {
   "attachments": {},
   "cell_type": "markdown",
   "metadata": {},
   "source": [
    "## Specifying what you're going to measure is important\n",
    "\n",
    "Examples of poor quesitons that leave wiggle room for useless answers:\n",
    "\n",
    "* What can my data tell me about my business?\n",
    "* What should I do?\n",
    "* How can I increase my profits?\n",
    "\n",
    "Examples of good questions where the answer is impossible to avoid:\n",
    "\n",
    "* How many Model 3s will Tesla sell in San Diego during the third quarter?\n",
    "* How many students will apply for admission to UCSD in 2030?\n",
    "* How many students should UCSD admit in 2030 for a target class size of 50,000?"
   ]
  },
  {
   "attachments": {},
   "cell_type": "markdown",
   "metadata": {},
   "source": [
    "## Working toward a strong data science question"
   ]
  },
  {
   "attachments": {},
   "cell_type": "markdown",
   "metadata": {},
   "source": [
    "### Nailing down the right question: politics\n",
    "\n",
    "* Too-vague question: What impacts politics in America?\n",
    "* Improving: Does pop culture have an impact on American politics?\n",
    "    * Do American TV shows have an impact on American politics?\n",
    "    * Does South Park affect American politics?\n",
    "    * Is there a relationship between words in South Park episodes and American politics?\n",
    "    * Is there a relationship between the sentiment of political words in South Park and American Politics?\n",
    "    * Is there a relationship between the sentiment of political words in South Park and America's presidential approval rating?"
   ]
  },
  {
   "attachments": {},
   "cell_type": "markdown",
   "metadata": {},
   "source": [
    "### Nailing down the right question: politics & the economy\n",
    "\n",
    "* Too-vague question: Does the President affect the stock market?\n",
    "* Improving: Does the political party of the US President affect the stock market?\n",
    "    * Does the political party of the US president affect the major stock market indexes?\n",
    "    * Does the political party of the US President affect the growth of major stock market indexes?\n",
    "    * Is there a significant change in the growth of the major US stock market indexes caused by the political party of a United States President? Is there a significant difference in the percent change in stock prices between democratic presidental terms and Republican presidential terms?"
   ]
  },
  {
   "attachments": {},
   "cell_type": "markdown",
   "metadata": {},
   "source": [
    "## Nailing down the right question: education\n",
    "\n",
    "* Too-vague question: How has COVID-19 impacted students?\n",
    "* Improving: How has COVID-19 impacted university students' education?\n",
    "    * Do students' grades and how they rate their classes differ pre- and during remote learning, due to COVID-19?\n",
    "    * At UCSD, is there a difference between student's grades and how they rate their classes during COVID-19 and during remote learning, due to COVID-19?"
   ]
  },
  {
   "attachments": {},
   "cell_type": "markdown",
   "metadata": {},
   "source": [
    "### Nailing down the right question: cause of death\n",
    "\n",
    "* Too-vague question: What gets attention in the news?\n",
    "* Improving: Do terrorist attacks get reported too much?\n",
    "    * Is there a relationship between the number of people who die relative to the amount of media attention a story gets?\n",
    "    * What causes of death are over-reported in the news relative to CDC death data? Underreported?\n",
    "    * Is there a relationship over time between the cause of death in the *NYT*, The Guardian, and Google trends data relative to data from the CDC?"
   ]
  },
  {
   "attachments": {},
   "cell_type": "markdown",
   "metadata": {},
   "source": [
    "## Nailing down the right question: policing\n",
    "\n",
    "* Too-vague question: Why isn't police response time always the same?\n",
    "* Improving: How can we improve police response time?\n",
    "    * Do crime levels and time of day affect response time?\n",
    "    * Where should police cars be stationed for crime levels and time of day, to make police response times equitable?\n",
    "    * Where should police cars be stationed, accounting for crime levels and time of day, to make police response times equitable throughout San Diego?"
   ]
  },
  {
   "attachments": {},
   "cell_type": "markdown",
   "metadata": {},
   "source": [
    "## Nailing down the right question: housing\n",
    "\n",
    "* Too-vague question: Why are housing costs so high in San Diego?\n",
    "* Improving: ...\n",
    "    * Why are housing costs so high in La Jolla, San Diego?\n",
    "    * Is there a correlation between median salary and housing costs in La Jolla?\n",
    "    * How is the median income of adults over 30 related to rent prices in La Jolla?\n",
    "    * Is there a correlation between proximity to the beach and housing prices in San Diego?\n",
    "    * How does education in San Diego affect housing costs?\n",
    "    * How does proximity to UCSD campus affect housing costs (can get comparative data by adding other cities; San Diego vs. other cities in the US)?"
   ]
  },
  {
   "attachments": {},
   "cell_type": "markdown",
   "metadata": {},
   "source": [
    "## Nailing down the right question: environment\n",
    "\n",
    "* Too-vague question: What did the COVID pandemic change about our environmental problems?\n",
    "* Improving: ...\n",
    "    * Was there a significant change in air quality after lockdown procedures due to the pandemic were implemented?\n",
    "        * Was there a significant change in air quality in CA for the month of March to May 2020 during(?) COVID-19 lockdown procedures, etc.?\n",
    "    * How did the number of K95 masks sold on Amazon since 2020 affect the polluting rates in San Diego County?\n",
    "    * How did the mandated quarantine affect the levels of plastic waste?\n",
    "    * What was the increase in AQI related to the number of remote jobs in La Jolla in 2019 vs. 2020?"
   ]
  }
 ],
 "metadata": {
  "kernelspec": {
   "display_name": "Python 3",
   "language": "python",
   "name": "python3"
  },
  "language_info": {
   "name": "python",
   "version": "3.10.3 (tags/v3.10.3:a342a49, Mar 16 2022, 13:07:40) [MSC v.1929 64 bit (AMD64)]"
  },
  "orig_nbformat": 4,
  "vscode": {
   "interpreter": {
    "hash": "3fe2205da32040b154459eec850e3f422ef2283e8249ac36b1b4a45364cc60d7"
   }
  }
 },
 "nbformat": 4,
 "nbformat_minor": 2
}
