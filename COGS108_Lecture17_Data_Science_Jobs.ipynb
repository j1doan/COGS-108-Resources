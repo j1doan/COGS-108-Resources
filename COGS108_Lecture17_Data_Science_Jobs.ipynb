{
 "cells": [
  {
   "attachments": {},
   "cell_type": "markdown",
   "metadata": {},
   "source": [
    "# Lecture 17: Data Science Jobs"
   ]
  },
  {
   "attachments": {},
   "cell_type": "markdown",
   "metadata": {},
   "source": [
    "## Personas"
   ]
  },
  {
   "attachments": {},
   "cell_type": "markdown",
   "metadata": {},
   "source": [
    "### 1: The \"Typical\" Undergraduate Job Applicant"
   ]
  },
  {
   "attachments": {},
   "cell_type": "markdown",
   "metadata": {},
   "source": [
    "#### Who is Persona 1?\n",
    "\n",
    "* Little to no relevant job experience\n",
    "* No established professional social network in industry\n",
    "* Relevant skills acquired through taking college courses"
   ]
  },
  {
   "attachments": {},
   "cell_type": "markdown",
   "metadata": {},
   "source": [
    "#### Persona 1 Timeline\n",
    "\n",
    "* Year 1: Relevant Minor Internship\n",
    "* Year 2: Relevant Minor/Major Relationship\n",
    "* Year 3: Relevant Major Internship\n",
    "* Year 4: Graduate and start job"
   ]
  },
  {
   "attachments": {},
   "cell_type": "markdown",
   "metadata": {},
   "source": [
    "#### How Persona 1 Gets a Relevant Minor Internship\n",
    "\n",
    "* Prepare a resume that several people with relevant knowledge about the industry have reviewed\n",
    "* Fill out ~100 job applications"
   ]
  },
  {
   "attachments": {},
   "cell_type": "markdown",
   "metadata": {},
   "source": [
    "##### *One Hundred* Job Applications?\n",
    "\n",
    "* Assuming that 5% of job applications will get back to you at all means you could get five interviews\n",
    "* Out of those interviews, hopefully 1 or 2 will result in offers"
   ]
  },
  {
   "attachments": {},
   "cell_type": "markdown",
   "metadata": {},
   "source": [
    "### Personal 2: The Technical Hustler\n",
    "\n",
    "* The visibility of technical jobs is *democratized* in a way that other careers are not\n",
    "* It's possible, easy, and expected to openly share artifacts from your work"
   ]
  },
  {
   "attachments": {},
   "cell_type": "markdown",
   "metadata": {},
   "source": [
    "#### Who is Persona 2?\n",
    "\n",
    "* Little to no relevant past job experience\n",
    "* Working to establihs a professional social network in industry\n",
    "* Relevant skills acquired through taking college courses, learning independently, and sharing their learning process"
   ]
  },
  {
   "attachments": {},
   "cell_type": "markdown",
   "metadata": {},
   "source": [
    "#### Persona 2 Goals\n",
    "\n",
    "* Establish a Web Presence\n",
    "    * Share technical projects\n",
    "    * Write about experiences creating projects\n",
    "    * Talk about it on Twitter under the right hashtags\n",
    "    * Help others online in forums and Q&A sites\n",
    "* Attend Meetups and Conferences\n",
    "    * Talk to others about the work that you do and the work that you're interested in"
   ]
  },
  {
   "attachments": {},
   "cell_type": "markdown",
   "metadata": {},
   "source": [
    "## Finding Your Job"
   ]
  },
  {
   "attachments": {},
   "cell_type": "markdown",
   "metadata": {},
   "source": [
    "### 1. The Search: Identifying the Right Job for You\n",
    "\n",
    "* **Know where to start**\n",
    "    * LinkedIn, Indeed, and Glassdoor\n",
    "    * POCIT and Tech Ladies, for people of color and women in technology respectively\n",
    "    * Job boards for specific types of companies like startups (AngelList) and technology (Dice)\n",
    "    * Specific company's career page\n",
    "    * Twitter & Meetups\n",
    "* **Watch for red flags**\n",
    "    * No description of company or job\n",
    "    * A job that is actually three jobs\n",
    "* **Demand Fit, not Perfection**"
   ]
  },
  {
   "attachments": {},
   "cell_type": "markdown",
   "metadata": {},
   "source": [
    "### 2. The Application: Resumes and Cover Letters\n",
    "\n",
    "* Resume *and* cover letter should be compelling\n",
    "    * **Resume**\n",
    "        * Goal is to get you an interview, not a job\n",
    "        * Better be skimmable\n",
    "        * Includes: contact info, education, experience, and skills\n",
    "    * **Cover Letter**\n",
    "        * Should highlight both why you would want *this* job and why *you* are a particularly good fit\n",
    "        * Demonstrate your research/knowledge about the company and position\n",
    "        * Tailor these for each job\n",
    "        * Allow them to be machine-searchable\n",
    "        * Referrals are a way to back-door past the algorithms\n",
    "            * If contacting someone (LinkedIn, Twitter), give them a reason to read your message"
   ]
  },
  {
   "attachments": {},
   "cell_type": "markdown",
   "metadata": {},
   "source": [
    "### 3. The Interview: What to Expect and How to Handle It\n",
    "\n",
    "* Basic understanding of you/position; assessment of best fit\n",
    "* Are you able to do the job? Are you a good fit?\n",
    "* Take-home assignment to determine your problem-solving and technical skills\n",
    "* Tie up loose ends, presentation"
   ]
  },
  {
   "attachments": {},
   "cell_type": "markdown",
   "metadata": {},
   "source": [
    "### 4. The Offer: Knowing What to Accept\n",
    "\n",
    "1. **Offer is coming** - general outline of offer coming your way\n",
    "2. **Company makes an offer** - often in email, get it in writing, includes salary, start date\n",
    "3. **You respond** - thank them for the offer and let them know you're excited to look it over in detail\n",
    "4. **You negotiate** - lay out what you want/need to accept the offer, best for you\n",
    "    * What is negotiable? Salary (5%), start date, vacation, flexibility, earlier interview (earlier raise), educational benefits, budget for travel/conferences, benefits (less often), options\n",
    "    * Best lever: A competing offer\n",
    "5. **You decide** - communicate final decision"
   ]
  },
  {
   "attachments": {},
   "cell_type": "markdown",
   "metadata": {},
   "source": [
    "## Minimal Advice"
   ]
  },
  {
   "attachments": {},
   "cell_type": "markdown",
   "metadata": {},
   "source": [
    "### Getting Your First Job in Data Science Summary\n",
    "\n",
    "* Learn one programming language extraordinarily well (Python, R)\n",
    "* Learn SQL extraordinarily well\n",
    "* Learn how to set up and interact with cloud computing services\n",
    "* Know how to *think and communicate* about data\n",
    "* Create a resume and have a few people with relevant knowledge help oyu revise it\n",
    "* Establihsh a professional web presence\n",
    "* Be prepared to apply to many dozens of jobs"
   ]
  }
 ],
 "metadata": {
  "language_info": {
   "name": "python"
  },
  "orig_nbformat": 4
 },
 "nbformat": 4,
 "nbformat_minor": 2
}
