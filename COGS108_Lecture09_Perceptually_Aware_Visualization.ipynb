{
 "cells": [
  {
   "attachments": {},
   "cell_type": "markdown",
   "metadata": {},
   "source": [
    "# Lecture 9: Perceptually Aware Visualization"
   ]
  },
  {
   "attachments": {},
   "cell_type": "markdown",
   "metadata": {},
   "source": [
    "## Visualization\n",
    "\n",
    "* The human brain has trouble making sense of large amounts of data produced by computational modeling and experimentation\n",
    "* As more computational methods are applied, more and more information is being created\n",
    "* Scientific visualization is one way of making important information explicit and simple to process\n",
    "* Sample visualizations: https://svs.gsfc.nasa.gov/"
   ]
  },
  {
   "attachments": {},
   "cell_type": "markdown",
   "metadata": {},
   "source": [
    "## What is color?\n",
    "\n",
    "* Reflected light = Color of object\n",
    "* Color is the set of wavelengths of light reflected from an object\n",
    "* A light source can be a light bulb, the sun, etc or another object\n",
    "* Ray-tracing relies on the idea that every object is its own light source based on the fact that all surfaces reflect light from the main light source; this can be modeled with an algorithm known as radiosity"
   ]
  },
  {
   "attachments": {},
   "cell_type": "markdown",
   "metadata": {},
   "source": [
    "## Electromagnetic Spectrum\n",
    "\n",
    "* Visual light is a tiny part of the electromagnetic spectrum\n",
    "* How can we visualize these quantities in a perceptually useful way?"
   ]
  },
  {
   "attachments": {},
   "cell_type": "markdown",
   "metadata": {},
   "source": [
    "## Physiology of The Eye\n",
    "\n",
    "* Light travels through the cornea into the pupil\n",
    "* Ciliary muscle fibers control the diametr of the lens, making its way to the fovea\n",
    "* The fovea (5°) is the least sensitive to motion but the most clear, while the periphery is the most sensitive to motion\n",
    "* Perceptual loop frequency happens at ~30 hz\n",
    "* A blind sport is created at the optic nerve"
   ]
  },
  {
   "attachments": {},
   "cell_type": "markdown",
   "metadata": {},
   "source": [
    "## Human Perception of Color\n",
    "\n",
    "* **Color constancy:** Our visual perception is constantly adjusting to compensate for changing surroundings\n",
    "* Human color perception is **context dependent**\n",
    "    * Every try to perceive the difference between two colors of clothing in low light?"
   ]
  },
  {
   "attachments": {},
   "cell_type": "markdown",
   "metadata": {},
   "source": [
    "## Rods and Cones - Color vs. Intensity\n",
    "\n",
    "* Rods - Sensitive to intensity (black and white sensitivity in low light conditions)\n",
    "* Cones - Three types: S, M, L; corresponds to short, medium, and long wavelength light sensitivities"
   ]
  },
  {
   "attachments": {},
   "cell_type": "markdown",
   "metadata": {},
   "source": [
    "### Perceptual Example - Afterimages"
   ]
  },
  {
   "attachments": {},
   "cell_type": "markdown",
   "metadata": {},
   "source": [
    "### CIE Color Chromaticity Chart\n",
    "\n",
    "This chart shows all the colors that humans can see."
   ]
  },
  {
   "attachments": {},
   "cell_type": "markdown",
   "metadata": {},
   "source": [
    "### Color Spaces\n",
    "\n",
    "* Now what we have a sense of how we percieve light and color, we can define several models of color\n",
    "* Each color is assigned a coordinate which has three components relative to some color space model (i.e., RGB)\n",
    "* Some of these color spaces are additive, some are subtractive"
   ]
  },
  {
   "attachments": {},
   "cell_type": "markdown",
   "metadata": {},
   "source": [
    "## Additive vs Subtractive Color\n",
    "\n",
    "* RGB: Red-green-blue, addtive scheme\n",
    "* CMY: Cyan-magenta-yellow, subtractive scheme\n",
    "    * Black (CMYK) is typically added to inkjet printers\n",
    "    * Difficult to make black by mixing CMY, requires precision\n",
    "    * Typically one uses black so it makes sense to have a separate ink cartidge for black HSV\n",
    "* HSV: Hue-saturation-value\n",
    "    * Many feel this is a more natural way to describe color for humans"
   ]
  },
  {
   "attachments": {},
   "cell_type": "markdown",
   "metadata": {},
   "source": [
    "### RGB and CMY Color Cubes\n",
    "\n",
    "* Map (r, g, b) -> (x, y, z) or (c, m, y) -> (x, y, z)\n",
    "* Combinations of primary color components (R, G, B) used to produce desired color\n",
    "* The two spaces are complements of each other"
   ]
  },
  {
   "attachments": {},
   "cell_type": "markdown",
   "metadata": {},
   "source": [
    "### HSV Color Cone\n",
    "\n",
    "Hue\n",
    "\n",
    "* The various colors we percieve\n",
    "* Each has its own unique wavelength\n",
    "\n",
    "Saturation\n",
    "\n",
    "* Also called chroma\n",
    "* Comparison of color to natural gray\n",
    "* Richness of color\n",
    "* 100% - pure color, 0% gray\n",
    "\n",
    "Value\n",
    "\n",
    "* Lightness or darkness of a hue, or achromatic color\n",
    "* Lower when darker, higher when lighter"
   ]
  },
  {
   "attachments": {},
   "cell_type": "markdown",
   "metadata": {},
   "source": [
    "### Good Color Matching\n",
    "\n",
    "* Choose colors which are basic on luminance differences, generally avoid having two fully saturated colors as foreground and background\n",
    "* Increase contrast by reducing the percieved intensity of either the foreground or background"
   ]
  },
  {
   "attachments": {},
   "cell_type": "markdown",
   "metadata": {},
   "source": [
    "### Luminance Equation\n",
    "\n",
    "Y = 0.30 * Red + 0.59 * Green + 0.11 * Blue\n",
    "\n",
    "* Percieved intensity due to a color\n",
    "* Different contributions of red/green/blue components\n",
    "* Empirically determined"
   ]
  },
  {
   "attachments": {},
   "cell_type": "markdown",
   "metadata": {},
   "source": [
    "### We percieve the world through contrast\n",
    "\n",
    "* No contrast, no boundary\n",
    "* No boundary, we cannot discern shapes and objects\n",
    "* Understanding color contrast will help data scientists create color groupings that are easy to percieve\n",
    "* A color contrast table can be formed by subtracting the luminance equation values for two different colors, then taking the absolute value"
   ]
  },
  {
   "attachments": {},
   "cell_type": "markdown",
   "metadata": {},
   "source": [
    "### Beware of mach banding"
   ]
  },
  {
   "attachments": {},
   "cell_type": "markdown",
   "metadata": {},
   "source": [
    "### Perceived color intensity and lightness is also context dependent"
   ]
  },
  {
   "attachments": {},
   "cell_type": "markdown",
   "metadata": {},
   "source": [
    "### False color representation and color maps\n",
    "\n",
    "Map values from any range to a map of colors; i.e., a matrix of 0-1 range -> white-black\n",
    "\n",
    "* Grayscale - get gray by setting all three color values the same\n",
    "* Intensity and saturation color scales - we often feel black means nothing\n",
    "* Rainbow color scale - magenta is not directly in the EM spectrum\n",
    "* Heated object color scale - intensity increases left -> right\n"
   ]
  },
  {
   "attachments": {},
   "cell_type": "markdown",
   "metadata": {},
   "source": [
    "## Color Gamut Comparison\n",
    "\n",
    "* The range of colors a device can display\n",
    "* This can be a triangle or more complex shapes\n",
    "* Typically a subset of human perception\n",
    "* Stay away from what cannot be printed when creating for papers"
   ]
  },
  {
   "attachments": {},
   "cell_type": "markdown",
   "metadata": {},
   "source": [
    "### Different Display technologies have different limitations\n",
    "\n",
    "LCD\n",
    "\n",
    "* Slow response (faster than it used to be)\n",
    "* Narrower color gamut that older CRTs, but improving\n",
    "* Tough\n",
    "* Not good for extreme temperatures\n",
    "* Multiple resolutions are interpolated\n",
    "\n",
    "Film\n",
    "\n",
    "* Wider color gamut\n",
    "* Fairly good resolution typically\n",
    "\n",
    "Color Printers\n",
    "\n",
    "* Narrow color gamut\n",
    "* Subtractive color\n",
    "* Requires special paper to realize maximum potential\n",
    "\n",
    "NTSC TV\n",
    "\n",
    "* Narrow color gamut\n",
    "* Slow refresh\n",
    "* Interlacing"
   ]
  },
  {
   "attachments": {},
   "cell_type": "markdown",
   "metadata": {},
   "source": [
    "## Output\n",
    "\n",
    "* If you are creating visualizations for multiple contexts (video computer monitors, printed papers, etc) be aware of device limitations\n",
    "* Use **redundant encoding of information** if you don't know what the output is or who will be looking at it\n",
    "    * Different fonts\n",
    "    * Symbols\n",
    "    * Fill pattern\n",
    "    * Outline pattern\n",
    "    * Outline thickness"
   ]
  }
 ],
 "metadata": {
  "language_info": {
   "name": "python"
  },
  "orig_nbformat": 4
 },
 "nbformat": 4,
 "nbformat_minor": 2
}
