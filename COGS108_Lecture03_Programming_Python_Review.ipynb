{
 "cells": [
  {
   "attachments": {},
   "cell_type": "markdown",
   "metadata": {},
   "source": [
    "# Lecture 3: Programming\n",
    "### Python Review"
   ]
  },
  {
   "attachments": {},
   "cell_type": "markdown",
   "metadata": {},
   "source": [
    "## What is a program?\n",
    "\n",
    "* Generally a **program** is a **set of instructions** the programmer defines for a device or entity (usually a computer but not always) to follow\n",
    "* Regarding computers -> programmer writes a set of instructions (\"program\") that tells the computer to perform a set of instructions\n",
    "* When the program is executed, the instructions are carried out"
   ]
  },
  {
   "attachments": {},
   "cell_type": "markdown",
   "metadata": {},
   "source": [
    "## Have to be careful what you tell it to do!\n",
    "\n",
    "* NASA example - 1999 Climate Orbiter spacecraft, 286 days to Mars. Miscalculations due to a conversion error sent the craft off course gradually, so this $125M piece of technology smashed itself into the surface of Mars.\n",
    "* A program must have reasonable inputs and outputs\n",
    "* Just because a function works, it does not mean nothing con go wrong"
   ]
  },
  {
   "attachments": {},
   "cell_type": "markdown",
   "metadata": {},
   "source": [
    "## Why write a program?\n",
    "\n",
    "* Many reasons you may want to write a program\n",
    "* This can be anything:\n",
    "    * Processing data\n",
    "    * Making a robot walk\n",
    "    * COntrolling traffic lights to meter traffic during rush hour in an optimal way\n",
    "    * Displaying a photo, etc."
   ]
  },
  {
   "attachments": {},
   "cell_type": "markdown",
   "metadata": {},
   "source": [
    "## Why Python?\n",
    "\n",
    "* Its free\n",
    "* Tremendous library suuport\n",
    "* Easy interpreted language, quick for prototyping\n",
    "* Highly optimized computational libraries\n",
    "* Cross platform/portability\n",
    "* Strong user community for answering questions/knowledgebase"
   ]
  },
  {
   "attachments": {},
   "cell_type": "markdown",
   "metadata": {},
   "source": [
    "## When Python?\n",
    "\n",
    "* Web app development\n",
    "* Data science\n",
    "* Scripting\n",
    "* Database programming\n",
    "* Quick prototyping"
   ]
  },
  {
   "attachments": {},
   "cell_type": "markdown",
   "metadata": {},
   "source": [
    "## Why Jupyter Notebooks\n",
    "\n",
    "* Mixed media is excellent for data exploration and communication\n",
    "* Don't have to write a separate program from your notes, results, etc\n",
    "* Easy to experiment in nonlinear and compartmentalized ways"
   ]
  },
  {
   "attachments": {},
   "cell_type": "markdown",
   "metadata": {},
   "source": [
    "## JN Use Cases\n",
    "\n",
    "Prototyping\n",
    "* Data ingestion\n",
    "* Exploratory data analysis\n",
    "* Feature engineering\n",
    "* Model comparison\n",
    "* Final model"
   ]
  }
 ],
 "metadata": {
  "kernelspec": {
   "display_name": "Python 3",
   "language": "python",
   "name": "python3"
  },
  "language_info": {
   "name": "python",
   "version": "3.10.3 (tags/v3.10.3:a342a49, Mar 16 2022, 13:07:40) [MSC v.1929 64 bit (AMD64)]"
  },
  "orig_nbformat": 4,
  "vscode": {
   "interpreter": {
    "hash": "3fe2205da32040b154459eec850e3f422ef2283e8249ac36b1b4a45364cc60d7"
   }
  }
 },
 "nbformat": 4,
 "nbformat_minor": 2
}
