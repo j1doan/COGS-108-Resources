{
 "cells": [
  {
   "attachments": {},
   "cell_type": "markdown",
   "metadata": {},
   "source": [
    "# Lecture 19: The Future of Data Science"
   ]
  },
  {
   "attachments": {},
   "cell_type": "markdown",
   "metadata": {},
   "source": [
    "* Considering a Ph. D.  or master's in data science?\n",
    "    * If you work straight out of undergrad, you will have to work your way up the corporate ladder\n",
    "    * Doing a Ph. D. requires a significantly larger project than what would be completed with a master's, but you start out much higher in the corporate ladder\n",
    "* San Diego offers grants to help startups (U.S. Small Business Administration)"
   ]
  },
  {
   "attachments": {},
   "cell_type": "markdown",
   "metadata": {},
   "source": [
    "## Where We Are Now"
   ]
  },
  {
   "attachments": {},
   "cell_type": "markdown",
   "metadata": {},
   "source": [
    "* Although the data fluctuates year to year, data scientists are usually high in demand (Glassdoor, 2021)\n",
    "* Job satisfaction is extremely high among data scientists\n",
    "* Despite what pessimistic forum posters and news outlets might claim, new job opportunities are frequently presented to data scientists looking for jobs\n",
    "* **Top 3 Data Science Technologies**\n",
    "    1. Python\n",
    "    2. R\n",
    "    3. SQL"
   ]
  },
  {
   "attachments": {},
   "cell_type": "markdown",
   "metadata": {},
   "source": [
    "## Completed Course Objectives"
   ]
  },
  {
   "attachments": {},
   "cell_type": "markdown",
   "metadata": {},
   "source": [
    "### COGS 108 Lectures\n",
    "\n",
    "1. Data Science, Python, and Version Control\n",
    "2. Data Intuition, Data Wrangling with `Pandas`, and Ethics\n",
    "3. Formulating Data Science Questions and Data Visualization\n",
    "4. Data Analysis: Descriptive and EDA\n",
    "5. Interfence\n",
    "6. Text Analysis\n",
    "7. Machine Learning\n",
    "8. Non-parametric Statistics and Geospatial Analysis\n",
    "9. Dimensionality Reduction and Data Science Jobs\n",
    "10. Data Science Communication"
   ]
  },
  {
   "attachments": {},
   "cell_type": "markdown",
   "metadata": {},
   "source": [
    "### COGS 108 Final Project Lessons\n",
    "\n",
    "1. Asking the right question up front really helps\n",
    "2. Finding the right data you need <u>is</u> a skill\n",
    "    1. ... so is knowing if the data are reliable\n",
    "    2. ... and if they can answer your question\n",
    "    3. ... and organizing what information you don't have\n",
    "3. Data visualization and storytelling are important skills\n",
    "4. Determining which analytical approach is best is HARD\n",
    "5. Programming is merely a piece of the puzzle for data scientists"
   ]
  },
  {
   "attachments": {},
   "cell_type": "markdown",
   "metadata": {},
   "source": [
    "## So Where Are We Going?"
   ]
  },
  {
   "attachments": {},
   "cell_type": "markdown",
   "metadata": {},
   "source": [
    "**Algorithms are fragile and powerful**\n",
    "\n",
    "* Computer vision with DNNs (IEEE, 2015)\n",
    "    * [Deep Neural Networks Are Eeasily Fooled: High Confidence Predictions for Unrecognizable Images](https://doi.org/10.1109/CVPR.2015.7298640): **Figure 1.** Evolved images that are unrecognizable to humans, but that state-of-the-art DNNs trained on ImageNet believe with $\\geq$ 99.6% certainty to be a familiar object. This results highlights differences between how DNNs and humans recognize objects. Images are either directly or indirectly encoded.\n",
    "* Human-based computation (reCAPTCHA)\n",
    "* Reality manipulation (deepfakes)"
   ]
  }
 ],
 "metadata": {
  "language_info": {
   "name": "python"
  },
  "orig_nbformat": 4
 },
 "nbformat": 4,
 "nbformat_minor": 2
}
