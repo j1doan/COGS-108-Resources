{
 "cells": [
  {
   "attachments": {},
   "cell_type": "markdown",
   "metadata": {},
   "source": [
    "# Lecture 10: Text Analysis"
   ]
  },
  {
   "attachments": {},
   "cell_type": "markdown",
   "metadata": {},
   "source": [
    "Examples of questions that require text analysis:\n",
    "\n",
    "1. Did J.K. Rowling write *The Cuckoo's Calling* under the pen name Robert Galbraith?\n",
    "2. What themes are common in 19th century literature?\n",
    "3. Are interactions via Twitter less civil than in person?"
   ]
  },
  {
   "attachments": {},
   "cell_type": "markdown",
   "metadata": {},
   "source": [
    "Today's example question: How has pop music changed in the last five years?\n",
    "\n",
    "**Goal: To understand the basics of sentiment analysis and TF-IDF**"
   ]
  },
  {
   "attachments": {},
   "cell_type": "markdown",
   "metadata": {},
   "source": [
    "What data would we need to answer this question?\n",
    "\n",
    "How has pop music changed in the last five years?\n",
    "\n",
    "*Data: Lyrics to the most popular songs from each year*"
   ]
  },
  {
   "attachments": {},
   "cell_type": "markdown",
   "metadata": {},
   "source": [
    "*Top songs from Feb music charts 2017-2021*\n",
    "\n",
    "*Song data from Spotify; lyrics from genius.com*\n",
    "\n",
    "* 2017: 152 songs\n",
    "* 2018: 139 songs\n",
    "* 2019: 127 songs\n",
    "* 2020: 137 songs\n",
    "* 2021: 134 songs"
   ]
  },
  {
   "attachments": {},
   "cell_type": "markdown",
   "metadata": {},
   "source": [
    "Questions we can ask...\n",
    "\n",
    "1. Does the total number of words change over time?\n",
    "2. Does uniqueness change over time?\n",
    "3. Does the diversity or density change over time?\n",
    "4. What words are most common?\n",
    "5. What words are most unique to each year?\n",
    "6. What sentiment do songs convey most frequently?\n",
    "7. Has sentiment changed over time?\n",
    "8. What are the sentiment of the #1 songs?\n",
    "9. What words contribute to the sentiment of these #1 songs?\n",
    "10. What about bigrams? N-grams?"
   ]
  },
  {
   "attachments": {},
   "cell_type": "markdown",
   "metadata": {},
   "source": [
    "Lexical Diversity: A representation of how many unqiue words are used in a song\n",
    "\n",
    "Lexical Density: An indicator of word repetition"
   ]
  },
  {
   "attachments": {},
   "cell_type": "markdown",
   "metadata": {},
   "source": [
    "## Sentiment Analysis"
   ]
  },
  {
   "attachments": {},
   "cell_type": "markdown",
   "metadata": {},
   "source": [
    "Programmatically infer emotional content of text\n",
    "\n",
    "Break down into an individual or combination of words\n",
    "\n",
    "Compare to a sentiment lexicon: Dataset containing words classified by their sentiment"
   ]
  },
  {
   "attachments": {},
   "cell_type": "markdown",
   "metadata": {},
   "source": [
    "### When doing sentiment analysis...\n",
    "\n",
    "Token - A meaningful unit of text\n",
    "\n",
    "* What you use for analysis\n",
    "* *Tokenization* takes corpus of text and spllits it into tokens (words, bigrams, etc.)\n",
    "\n",
    "Stop words - Words not helpful for analysis\n",
    "\n",
    "* Extremely common words such as \"the\", \"of\", \"to\"\n",
    "* Are typically removed from analysis\n",
    "\n",
    "Stemming - Lexicon normalization\n",
    "\n",
    "* Identifying the root for each token\n",
    "* Jumping, jumped, jumps, jump all have the same root \"jump\"\n",
    "* Where things get tricky: \"jumper\""
   ]
  },
  {
   "attachments": {},
   "cell_type": "markdown",
   "metadata": {},
   "source": [
    "### In text analysis, your choices matter:\n",
    "\n",
    "1. How to tokenize?\n",
    "2. What lexicon to use?\n",
    "3. Remove stop words? Remove common words?\n",
    "4. use stemming?"
   ]
  },
  {
   "attachments": {},
   "cell_type": "markdown",
   "metadata": {},
   "source": [
    "### Sentiment Limitations\n",
    "\n",
    "What is a limitation of sentiment analysis?\n",
    "\n",
    "A. Words in your dataset may not all be included in lexicon\n",
    "\n",
    "B. Context in language matters, but may be lost in sentiment analysis\n",
    "\n",
    "C. Lexicon may misclassify the sentiment of the words in your dataset\n",
    "\n",
    "D. The result you get are sensitive to the lexicon you use for your analysis\n",
    "\n",
    "**E. All of the above**"
   ]
  },
  {
   "attachments": {},
   "cell_type": "markdown",
   "metadata": {},
   "source": [
    "## TF-IDF: Term Frequency - Inverse Domain Frequency"
   ]
  },
  {
   "attachments": {},
   "cell_type": "markdown",
   "metadata": {},
   "source": [
    "What words are the most unique to the lyrics of each year's top hits?\n",
    "\n",
    "Goal: To use TF-IDF to find the important words for the content of each document by decreasing the weight for commonly used words and increasing the weight for words that are not used very much in a collection or corpus of documents.\n",
    "\n",
    "Calculating TF-IDF attempts to find the words that are important (i.e., common) in a text, but not too common.\n",
    "\n",
    "However, term frequency can only tell us so much..."
   ]
  },
  {
   "attachments": {},
   "cell_type": "markdown",
   "metadata": {},
   "source": [
    "Term Frequency (TF): How frequently a word occurs in a document\n",
    "\n",
    "Inverse document frequency (IDF): Intended to measure how important a word is to a document\n",
    "\n",
    "TF-IDF decreases the weight for commonly used words and decreases the weight for words that are not used very much in a collection of documents.\n",
    "\n",
    "***idf*(term) = ln (n_{documents} / n_{documents containing term})**"
   ]
  },
  {
   "attachments": {},
   "cell_type": "markdown",
   "metadata": {},
   "source": [
    "In TF-IDF, the frequency of a term is adjusted for how rarely it is used.\n",
    "\n",
    "W_{x, y} = tf{x, y} * log (N / df_x)\n",
    "\n",
    "* tf{x, y} = frequency of x in y\n",
    "* df_x = number of documents containing x\n",
    "* N = total number of documents"
   ]
  },
  {
   "attachments": {},
   "cell_type": "markdown",
   "metadata": {},
   "source": [
    "RECAP: Questions we can ask...\n",
    "\n",
    "*EDA*\n",
    "\n",
    "1. Does the total number of words change over time?\n",
    "2. Does uniqueness change over time?\n",
    "3. Does the diversity or density change over time?\n",
    "\n",
    "*TF-IDF*\n",
    "\n",
    "4. What words are most common?\n",
    "5. What words are most unique to each year?\n",
    "\n",
    "*Sentiment Analysis*\n",
    "\n",
    "6. What sentiment do songs convey most frequently?\n",
    "7. Has sentiment changed over time?\n",
    "8. What are the sentiment of the #1 songs?\n",
    "9. What words contribute to the sentiment of these #1 songs?\n",
    "10. What about bigrams? N-grams?"
   ]
  }
 ],
 "metadata": {
  "language_info": {
   "name": "python"
  },
  "orig_nbformat": 4
 },
 "nbformat": 4,
 "nbformat_minor": 2
}
