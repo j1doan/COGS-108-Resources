{
 "cells": [
  {
   "attachments": {},
   "cell_type": "markdown",
   "metadata": {},
   "source": [
    "# Lecture 6A: Approaches to Analysis"
   ]
  },
  {
   "attachments": {},
   "cell_type": "markdown",
   "metadata": {},
   "source": [
    "\"Data science is the process of forumlating a question that can be answered with the data, collecting and cleaning the data, </u>analyzing the data</u>, and communicating the answer to the question to a relevant audience.\n",
    "\n",
    "To do ths, you have to lok at, describe, and explore the data."
   ]
  },
  {
   "attachments": {},
   "cell_type": "markdown",
   "metadata": {},
   "source": [
    "## Summary: Analytical Approaches\n",
    "\n",
    "1. **Descriptive** (and **Exploratory**) Data Analysis are the first step(s)\n",
    "2. **Interference** establishes relationships\n",
    "    1. Classic Statistics\n",
    "    2. Geospatial Statistics\n",
    "    3. Text Analysis\n",
    "3. Machine Learning is for **prediction**\n",
    "    1. Supervised\n",
    "    2. Unsupervised\n",
    "4. Experiment are the best wat to establish the likelihood of **causality**\n",
    "    1. Remember you *cannot* establish causality with computational methods, only correlations along with statistical beliefs"
   ]
  },
  {
   "attachments": {},
   "cell_type": "markdown",
   "metadata": {},
   "source": [
    "## General Analysis"
   ]
  },
  {
   "attachments": {},
   "cell_type": "markdown",
   "metadata": {},
   "source": [
    "\\#Text analysis \\#Classic statistics (parametric & nonparametric)\n",
    "\n",
    "General Question: What impacts politics in America?\n",
    "\n",
    "Data Science Question: Is there a relationship between the sentiment of political words in South Park and America's presidential approval rating?"
   ]
  },
  {
   "attachments": {},
   "cell_type": "markdown",
   "metadata": {},
   "source": [
    "\\#Geospatial Analysis\n",
    "\n",
    "General Question: Why isn't police response time always the same?\n",
    "\n",
    "Data Science Question: Where should cars be stationed, accounting for crime levels and time of day, to make police response times equitable throughout San Diego?"
   ]
  },
  {
   "attachments": {},
   "cell_type": "markdown",
   "metadata": {},
   "source": [
    "\\#Text analysis \\#Classic statistics (parametric & nonparametric)\n",
    "\n",
    "General Question: How has COVID-19 impacted students?\n",
    "\n",
    "Data Science Question: At UCSD, is there a difference between students' grades and how they rate their classes before COVID-19 and during remote learning, due to COVID-19?"
   ]
  },
  {
   "attachments": {},
   "cell_type": "markdown",
   "metadata": {},
   "source": [
    "\\#Text analysis \\#Classic statistics (parametric & nonparametric)\n",
    "\n",
    "General Question: What gets too much attention in the news?\n",
    "\n",
    "Data Science Question: Is there a relationship over time between cause and death in the *NYT*, The Guardian, and Google trends data relative to data from the CDC?"
   ]
  },
  {
   "attachments": {},
   "cell_type": "markdown",
   "metadata": {},
   "source": [
    "\\#Predictive\n",
    "\n",
    "In case of the total drought in California, how many desalination plant projects we need to supply residential use water for population who live in urban areas in California?"
   ]
  },
  {
   "attachments": {},
   "cell_type": "markdown",
   "metadata": {},
   "source": [
    "# Lecture 6B: Inferential Analysis"
   ]
  },
  {
   "attachments": {},
   "cell_type": "markdown",
   "metadata": {},
   "source": [
    "**Problem:** Does *Seasame Street* affect child brain development?\n",
    "\n",
    "**Data Science Question:** What is the relationship between watching Seasame Street and test scores among children?\n",
    "\n",
    "**Type of analysis:** Inferential analysis"
   ]
  },
  {
   "attachments": {},
   "cell_type": "markdown",
   "metadata": {},
   "source": [
    "Establishing & Stating Your Null and Alternative Hypothesis Helps Guide Your Analysis\n",
    "\n",
    "<u>Null Hypothesis</u>: H<sub>0</sub>: *Seasame Street* has **no effect** on kids' brain development.\n",
    "\n",
    "<u>Null Hypothesis</u>: H<sub>a</sub>: Watching *Seasame Street* has **an effect** on kids' brain development."
   ]
  },
  {
   "attachments": {},
   "cell_type": "markdown",
   "metadata": {},
   "source": [
    "In the *Seasame Street* example:\n",
    "\n",
    "* The <u>population</u> would be all children\n",
    "* The <u>sample</u> would be the children included in the study\n",
    "* We don't know how much *Seasame Street* was watched by the kids"
   ]
  },
  {
   "attachments": {},
   "cell_type": "markdown",
   "metadata": {},
   "source": [
    "Based on the relationship we see in our sample, we can <u>infer</u> the answer to our population.\n",
    "\n",
    "So we look at *Seasame Street* viewing and test scores in a <u>representative sample</u> of kids.\n",
    "\n",
    "If your sample is not representative of your population, you cannot do inferential analysis."
   ]
  },
  {
   "attachments": {},
   "cell_type": "markdown",
   "metadata": {},
   "source": [
    "## Approaches to Interference"
   ]
  },
  {
   "attachments": {},
   "cell_type": "markdown",
   "metadata": {},
   "source": [
    "**Correlation**\n",
    "\n",
    "Association between variables\n",
    "\n",
    "EX: Pearson correlation, Spearman correlation, chi-square test\n",
    "\n",
    "**Comparison of Means**\n",
    "\n",
    "Difference in means between variables\n",
    "\n",
    "EX: t-test, ANOVA\n",
    "\n",
    "**Regression**\n",
    "\n",
    "Does change in one variable mean change in another?\n",
    "\n",
    "EX: Sample regression, Multiple Regression\n",
    "\n",
    "**Non-Parametric Tests**\n",
    "\n",
    "For when assumptions in these other 3 categories are not met\n",
    "\n",
    "EX: Wilcoxon rank-sum test, Wilcoxon sign-rank test, sign test"
   ]
  },
  {
   "attachments": {},
   "cell_type": "markdown",
   "metadata": {},
   "source": [
    "Models are mathematical equations generated to represent the real life situation.\n",
    "\n",
    "*\"All models are wrong, but some are useful.\"* (Cox, 1976)\n",
    "\n",
    "Linear regression can be used to determine whether a change in one variable is related to the change in the other variable.\n",
    "\n",
    "The magnitude of the relationship is measured by the slop of the line.\n",
    "\n",
    "This is also referred to as the model's **effect size** (β<sub>1</sub>)"
   ]
  },
  {
   "attachments": {},
   "cell_type": "markdown",
   "metadata": {},
   "source": [
    "**Effect size** (β<sub>1</sub>) can be estimated using the slope of the line.\n",
    "\n",
    "The closer the points are to the regression line, the less uncertain we are in our estimate."
   ]
  },
  {
   "attachments": {},
   "cell_type": "markdown",
   "metadata": {},
   "source": [
    "## Assumptions of Linear Regression\n",
    "\n",
    "1. Linear relationship\n",
    "2. No multicollinearity\n",
    "3. No auto-correlation\n",
    "4. Homoscedasticity"
   ]
  },
  {
   "attachments": {},
   "cell_type": "markdown",
   "metadata": {},
   "source": [
    "**Linear regression** assumes no multicolinearity. **Multicollinearity** occurs when the independent variables (in multiple linear regression) are too highly correlated with each other."
   ]
  },
  {
   "attachments": {},
   "cell_type": "markdown",
   "metadata": {},
   "source": [
    "**Autocorrelation** occurs when the observations are not independent of one another (i.e., stock prices)."
   ]
  },
  {
   "attachments": {},
   "cell_type": "markdown",
   "metadata": {},
   "source": [
    "Do not use linear regression when data is not **homoscedastic**, where points at one end are much further from the line than at the other end."
   ]
  },
  {
   "attachments": {},
   "cell_type": "markdown",
   "metadata": {},
   "source": [
    "**p-value:** The probability of getting the observed results (or results more extreme) by chance alone. Takes into account the effect size  (β<sub>1</sub>) and the SE."
   ]
  },
  {
   "attachments": {},
   "cell_type": "markdown",
   "metadata": {},
   "source": [
    "**Null Distribution:** What occurs by random chance (Gaussian Distribution)"
   ]
  },
  {
   "attachments": {},
   "cell_type": "markdown",
   "metadata": {},
   "source": [
    "## Confounding\n",
    "\n",
    "Variables that are seemingly related are actually influenced by a third variable. Ignoring confounders will lead you to draw incorrect conclusions from your analyses."
   ]
  }
 ],
 "metadata": {
  "kernelspec": {
   "display_name": "Python 3",
   "language": "python",
   "name": "python3"
  },
  "language_info": {
   "name": "python",
   "version": "3.10.3 (tags/v3.10.3:a342a49, Mar 16 2022, 13:07:40) [MSC v.1929 64 bit (AMD64)]"
  },
  "orig_nbformat": 4,
  "vscode": {
   "interpreter": {
    "hash": "3fe2205da32040b154459eec850e3f422ef2283e8249ac36b1b4a45364cc60d7"
   }
  }
 },
 "nbformat": 4,
 "nbformat_minor": 2
}
