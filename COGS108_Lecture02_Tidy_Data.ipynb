{
 "cells": [
  {
   "attachments": {},
   "cell_type": "markdown",
   "metadata": {},
   "source": [
    "# Lecture 2: Data\n",
    "### Tidy Data and Data Intuition"
   ]
  },
  {
   "attachments": {},
   "cell_type": "markdown",
   "metadata": {},
   "source": [
    "## Tidy Data\n",
    "\n",
    "* Each variable you measure should be in a single column\n",
    "* Every observation of a varibale should be in a different row\n",
    "* There should be one table for each type of data\n",
    "    * If you have multiple tables, they should include a column in each with the same column label that allows them to be joined or merged\n",
    "    * Tidy data == rectanglar data\n",
    "* Tidy Data Benefits\n",
    "    * Consistent data structure\n",
    "    * Foster tool development\n",
    "    * Require only a small set of tools to be learned\n",
    "    * Allow for datasets to be combined"
   ]
  },
  {
   "attachments": {},
   "cell_type": "markdown",
   "metadata": {},
   "source": [
    "## Data Intuition\n",
    "\n",
    "* Fermi Estimation - Estimates can be more or less accurate, but can orient the data\n",
    "* Think about your question and your expectations\n",
    "* Do some Fermi calculations (back of the envelope calculation)\n",
    "* Write code and look at outputs, think about those outputs\n",
    "* Use your instinct/background knowledge to guide you\n",
    "* Review code and fix bugs\n",
    "* Create test cases - \"Sanity checks\""
   ]
  },
  {
   "attachments": {},
   "cell_type": "markdown",
   "metadata": {},
   "source": [
    "## What does tidy data have to do with data science?\n",
    "\n",
    "**EVRYTHING**"
   ]
  },
  {
   "attachments": {},
   "cell_type": "markdown",
   "metadata": {},
   "source": [
    "## Data Structures Review\n",
    "\n",
    "* Structured Data\n",
    "    * Can be stored in databases (SQL)\n",
    "    * Tables with rows and columns\n",
    "    * Requires a relational key\n",
    "    * 5 - 10% of all data\n",
    "* Semi-structured data\n",
    "    * Doesn't reside in a relational database\n",
    "    * Hasd organizational properties (easier to analyze)\n",
    "    * CSV, XML, JSON\n",
    "* Unstructured\n",
    "    * Non-tabular data\n",
    "    * 80% of the world's data\n",
    "    * Images, text, audio, videos"
   ]
  },
  {
   "attachments": {},
   "cell_type": "markdown",
   "metadata": {},
   "source": [
    "## Semi-Structured Data\n",
    "\n",
    "Data that is stored in such a way that it is easy to search and work with. These data are stored in a particular format that adheres to organization principles imposed by the file format. These are the data structures data scientists work with most often."
   ]
  },
  {
   "attachments": {},
   "cell_type": "markdown",
   "metadata": {},
   "source": [
    "## JSON\n",
    "\n",
    "* Each column is separated by a comma\n",
    "* Has the `.csv` file extension\n",
    "* Each row is separated by a new line\n",
    "* JSON (JavaScript Object Notation): Key-value pairs\n",
    "    * {Key: Value}"
   ]
  },
  {
   "attachments": {},
   "cell_type": "markdown",
   "metadata": {},
   "source": [
    "## XML\n",
    "\n",
    "* XML (Extensible Markup Language): Nodes, tags, and elements\n",
    "    * Nesting system\n",
    "    * Looks a lot like HTML\n",
    "    * Node = `$node`\n",
    "    * Opening Tag = `<tag>`\n",
    "    * Element = `<tag2> more content <tag2>`\n",
    "    * Closing Tag = `<\\tag>`"
   ]
  },
  {
   "attachments": {},
   "cell_type": "markdown",
   "metadata": {},
   "source": [
    "## Relational Databases\n",
    "\n",
    "A sort of interdependent tables\n",
    "\n",
    "* Efficient Data Storage\n",
    "* Avoid Ambiguity\n",
    "* Increase Data Privacy\n",
    "* Information is stored across tables\n",
    "    * Entries are related to one another by their unique attributes"
   ]
  },
  {
   "attachments": {},
   "cell_type": "markdown",
   "metadata": {},
   "source": [
    "## Unstructured Data\n",
    "\n",
    "Some datasets record information about the state of the world, but in a more heterogeneous way. Perhaps it is a large text corpus with images and links like Wikipedia, or the complicated mix of notes and test results appearing in personal medical records."
   ]
  },
  {
   "attachments": {},
   "cell_type": "markdown",
   "metadata": {},
   "source": [
    "## Unstructured Data Types\n",
    "\n",
    "* Text files and documents\n",
    "* Websites and applications\n",
    "* Sensor data\n",
    "* Image files\n",
    "* Audio files\n",
    "* Video files\n",
    "* Email data\n",
    "* Social media exchange"
   ]
  },
  {
   "attachments": {},
   "cell_type": "markdown",
   "metadata": {},
   "source": [
    "## (Text) Sentiment Analysis\n",
    "\n",
    "* Positive, negative, and neutral responses availiable"
   ]
  }
 ],
 "metadata": {
  "kernelspec": {
   "display_name": "Python 3",
   "language": "python",
   "name": "python3"
  },
  "language_info": {
   "name": "python",
   "version": "3.10.3 (tags/v3.10.3:a342a49, Mar 16 2022, 13:07:40) [MSC v.1929 64 bit (AMD64)]"
  },
  "orig_nbformat": 4,
  "vscode": {
   "interpreter": {
    "hash": "3fe2205da32040b154459eec850e3f422ef2283e8249ac36b1b4a45364cc60d7"
   }
  }
 },
 "nbformat": 4,
 "nbformat_minor": 2
}
