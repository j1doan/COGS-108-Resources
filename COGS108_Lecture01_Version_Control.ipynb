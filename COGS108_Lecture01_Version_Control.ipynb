{
 "cells": [
  {
   "attachments": {},
   "cell_type": "markdown",
   "metadata": {},
   "source": [
    "# Lecture 1: Version Control"
   ]
  },
  {
   "attachments": {},
   "cell_type": "markdown",
   "metadata": {},
   "source": [
    "## Version Control\n",
    "* Enables multiple people to simultaneously work on a single project\n",
    "* Each person edits their own copy of the files and chooses when to share changes with the rest of the team\n",
    "* Temporary or partial edtis by one person do not interfere with another person's work"
   ]
  },
  {
   "attachments": {},
   "cell_type": "markdown",
   "metadata": {},
   "source": [
    "## What is version control?\n",
    "\n",
    "* A way to manage a set of files\n",
    "* When using a version control system, you have one copy of each file and the version control system tracks changes that have occured over time\n",
    "* The set of files is referred to as a repository (repo)"
   ]
  },
  {
   "attachments": {},
   "cell_type": "markdown",
   "metadata": {},
   "source": [
    "## git and GitHub\n",
    "\n",
    "* git - the version control system (track changes on steroids) - local machine\n",
    "* GitHub - The home where git-based projects live on the Internet (DropBox but better) - remote machine\n",
    "\n",
    "GUIs can be helpful when working with version control"
   ]
  },
  {
   "attachments": {},
   "cell_type": "markdown",
   "metadata": {},
   "source": [
    "* Why version control with GitHub?\n",
    "    * Collaboration\n",
    "    * Returning to a safe state\n",
    "    * Exposure for your work\n",
    "    * Tracking others' work"
   ]
  },
  {
   "attachments": {},
   "cell_type": "markdown",
   "metadata": {},
   "source": [
    "* Collaborate like you do with Google Docs\n",
    "    * Collaboration with GitHub repositories\n",
    "    * Each person is making changes **locally** (on their computer)"
   ]
  },
  {
   "attachments": {},
   "cell_type": "markdown",
   "metadata": {},
   "source": [
    "* Make changes locally, while knowing a stable copy exists\n",
    "    * Returning to a safe state\n",
    "    * You're free and safe to try out things **locally**\n",
    "    * You'll only send changes to the repo when you're at a stable point"
   ]
  },
  {
   "attachments": {},
   "cell_type": "markdown",
   "metadata": {},
   "source": [
    "* Your repositories will be visible to others\n",
    "    * Exposure for your work\n",
    "    * Your public GitHub repos are your coding social media"
   ]
  },
  {
   "attachments": {},
   "cell_type": "markdown",
   "metadata": {},
   "source": [
    "* Keep up with other's work easily\n",
    "    * Tracking other's work\n",
    "    * As a social platform, you can see other's work too"
   ]
  },
  {
   "attachments": {},
   "cell_type": "markdown",
   "metadata": {},
   "source": [
    "## Version Control Basics\n",
    "* A GitHub repo contains all the files and folders for your project\n",
    "* GitHub is a remote host; the files are geographically distant from any files on your computer\n",
    "* When you first make a copy onto your local computer, you **clone** your repo\n",
    "* If someone else on your project cloned the repo at the same time, you would have identical copies of the project on each computer"
   ]
  },
  {
   "attachments": {},
   "cell_type": "markdown",
   "metadata": {},
   "source": [
    "* Tell git which files you'd like to keep track of using **add**\n",
    "    * This process is called staging\n",
    "    * Then, create a snapshot of the files at this point... This snapshot is called a **commit**, which tracks who, what, and when\n",
    "    * You can make commits more informative by adding a **commit message**"
   ]
  },
  {
   "attachments": {},
   "cell_type": "markdown",
   "metadata": {},
   "source": [
    "* Remember, you are not the only one woeking on the project\n",
    "    * To let collaborators have access, you need to **push** these changes back to the remote\n",
    "    * Your teammate is still working with the out-of-date copy cloned earlier\n",
    "    * To catch up, they will have to **pull** the changes from GitHub (remote)\n",
    "    * Collaborator's files in their local project will have the updated files"
   ]
  },
  {
   "attachments": {},
   "cell_type": "markdown",
   "metadata": {},
   "source": [
    "## Basic git Commands\n",
    "\n",
    "* `clone` - Set of files and folders for a project\n",
    "* `remote` - Where the repo lives\n",
    "* `clone` - Get the repo from the remote for the first time\n",
    "* `pull` - Get the latest version\n",
    "* `add` - Soecify which files you want to stage (add to repo)\n",
    "* `commit` - Snapchot of your files at a point in time\n",
    "* `pull` - Get new commits from the repo to the remote\n",
    "* `push` -  Send your new commits to the remote\n",
    "* `status` - List the status of files since last commit"
   ]
  },
  {
   "attachments": {},
   "cell_type": "markdown",
   "metadata": {},
   "source": [
    "## Review Questions I\n",
    "\n",
    "1. You've been working with a team on a project in a repo. You've makde changes locally and you want to see them on the remote. What do you do to get them on the remote?\n",
    "\n",
    "CLONE | REMOTE | MERGE | PULL | **PUSH**\n",
    "\n",
    "2. Your teammate has given you access to a GitHub repository to work on a project together. You want to get them for the first time on your computer locally. What do you do to get the repo on your computer?\n",
    "\n",
    "**CLONE** | REMOTE | COMMIT | PULL | PUSH"
   ]
  },
  {
   "attachments": {},
   "cell_type": "markdown",
   "metadata": {},
   "source": [
    "## Version Control Basics, Continued\n",
    "\n",
    "* By committing each time you make changes, git allows you to time travel\n",
    "* There's a unique id, known as a hash, associated with each commit\n",
    "* You can return to the state of the repository at any commit\n",
    "    * Future commits don't disappear, they just aren't availiable when you check out an older version\n",
    "* Not everything is always linear\n",
    "    * Sometimes you want to try something out and you are not sure it's going to work - this is where you will use a **branch**\n",
    "    * It is easy to get rid of a branch later on should you not want to include the commits on that branch\n",
    "    * If you do want to include the changes you've made on the new branch in the main branch, then perform a **merge**\n",
    "* What if someone else is working on something cool and you want to play with it? You have to **fork** their repo\n",
    "    * After forking their repo, you can play around with it however you want, using the workflow previously discussed\n",
    "* If you think you've found a bug in their code, a typ, or want to add a new feature to their software? Submit a **pull request (aka PR)**\n",
    "* What if you find a bug in someone else's code OR you want to make a sugestion but aren;t going to submit a suggestion with a PR\n",
    "    * File an issue on GitHub\n",
    "    * Issues are bug trackers, feature requests, to-dos, etc.\n",
    "    * These can be assigned to people\n",
    "    * They can be closed once addressed, or if the software maintainer doesn't like the suggestion\n"
   ]
  },
  {
   "attachments": {},
   "cell_type": "markdown",
   "metadata": {},
   "source": [
    "## Review Questions II\n",
    "\n",
    "3. To experiment with your own repo (test out a new feature, make some changes you're not sure will work)... What should you do?\n",
    "\n",
    "HASH | **BRANCH** | MERGE | FORK | PULL REQUEST\n",
    "\n",
    "4. If you've made edits to someone else's repo that you're not a collaborator on... what would they have to do to incorporate your changes?\n",
    "\n",
    "HASH | BRANCH | **MERGE** | FORK | PULL REQUEST"
   ]
  },
  {
   "attachments": {},
   "cell_type": "markdown",
   "metadata": {},
   "source": [
    "### Jupyter Notebooks have problems for version control\n",
    "\n",
    "https://nextjournal.com/schmudde/how-to-version-control-jupyter"
   ]
  }
 ],
 "metadata": {
  "kernelspec": {
   "display_name": "Python 3",
   "language": "python",
   "name": "python3"
  },
  "language_info": {
   "name": "python",
   "version": "3.10.3 (tags/v3.10.3:a342a49, Mar 16 2022, 13:07:40) [MSC v.1929 64 bit (AMD64)]"
  },
  "orig_nbformat": 4,
  "vscode": {
   "interpreter": {
    "hash": "3fe2205da32040b154459eec850e3f422ef2283e8249ac36b1b4a45364cc60d7"
   }
  }
 },
 "nbformat": 4,
 "nbformat_minor": 2
}
