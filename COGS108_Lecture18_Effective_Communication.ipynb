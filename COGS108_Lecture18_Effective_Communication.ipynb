{
 "cells": [
  {
   "attachments": {},
   "cell_type": "markdown",
   "metadata": {},
   "source": [
    "# Lecture 18: Effective Communication"
   ]
  },
  {
   "attachments": {},
   "cell_type": "markdown",
   "metadata": {},
   "source": [
    "## Written Communication"
   ]
  },
  {
   "attachments": {},
   "cell_type": "markdown",
   "metadata": {},
   "source": [
    "### Data Science Reports\n",
    "\n",
    "1. In-depth details of analysis\n",
    "2. Full explanation (nothing extra)\n",
    "3. A handful of figures (w/ interpretation)\n",
    "4. Tell a story"
   ]
  },
  {
   "attachments": {},
   "cell_type": "markdown",
   "metadata": {},
   "source": [
    "### What to Avoid\n",
    "\n",
    "1. Explaning everything you did\n",
    "2. Being too wordy\n",
    "3. Using the wrong visualization/bad figures\n",
    "4. Typos and confusion"
   ]
  },
  {
   "attachments": {},
   "cell_type": "markdown",
   "metadata": {},
   "source": [
    "### What to include in the final project report for COGS 108:\n",
    "\n",
    "1. Good title - Short and informative\n",
    "2. Overview - *Brief* overview <u>with results</u>\n",
    "3. Background (+ references) - Intro to topic + Prior work\n",
    "4. Hypothesis - Informed Guess + Why\n",
    "5. Datasets - What data you used\n",
    "6. Data Cleaning - What you did to clean/check the data\n",
    "7. Data Analysis - Explore the data, explain the process, and answer the question\n",
    "8. Ethics & Privacy - Consider the entire process\n",
    "9. Conclusion & Discussion - Wrap it up and discuss the limitations"
   ]
  },
  {
   "attachments": {},
   "cell_type": "markdown",
   "metadata": {},
   "source": [
    "### What to include in the final project video for COGS 108:\n",
    "\n",
    "*3% of the final grade, 3-5 minutes*\n",
    "\n",
    "* All members must be involved but it's not required that all members speak or that member's faces are on video.\n",
    "* Can be a slideshow presentation with voiceover\n",
    "* Can be something more creative; has to effectively communicate your project"
   ]
  },
  {
   "attachments": {},
   "cell_type": "markdown",
   "metadata": {},
   "source": [
    "## Oral Communication"
   ]
  },
  {
   "attachments": {},
   "cell_type": "markdown",
   "metadata": {},
   "source": [
    "### Before You Begin A Presentation\n",
    "\n",
    "**Presentation Goals:**\n",
    "\n",
    "1. Inspire\n",
    "2. Educate\n",
    "3. Entertained\n",
    "\n",
    "**Ground Rules:**\n",
    "\n",
    "1. Prepare\n",
    "2. Prepare\n",
    "3. Don't go overtime"
   ]
  },
  {
   "attachments": {},
   "cell_type": "markdown",
   "metadata": {},
   "source": [
    "### 1: Your Audience\n",
    "\n",
    "**Consider your audience:**\n",
    "\n",
    "* General vs. technical?\n",
    "* Audience background?\n",
    "* Setting?\n",
    "\n",
    "**General:**\n",
    "\n",
    "* Background\n",
    "* Limit technical details\n",
    "* Emphasize take-home\n",
    "\n",
    "**Presentation: General Audience:**\n",
    "\n",
    "1. Introduction and background\n",
    "    * Details on background material\n",
    "    * Full explanation of question and *why* doing analysis\n",
    "2. Analysis\n",
    "    * Limited discussion of approach\n",
    "    * Focused presentation of results\n",
    "3. Conclusion\n",
    "\n",
    "**Technical:**\n",
    "\n",
    "* Limit background\n",
    "* All the details\n",
    "* Emphasize take-home\n",
    "\n",
    "**Presentation: Technical Audience:**\n",
    "\n",
    "1. Introduction and background\n",
    "2. Analysis\n",
    "    * Details on methodology\n",
    "    * Detailed results\n",
    "    * Discussion of tools/approach\n",
    "3. Conclusion"
   ]
  },
  {
   "attachments": {},
   "cell_type": "markdown",
   "metadata": {},
   "source": [
    "### 2: Storytelling\n",
    "\n",
    "**Storytelling: Ground Rules**\n",
    "\n",
    "1. Enticing, short title\n",
    "2. Clear presentation\n",
    "3. All the necessary info\n",
    "4. Nothing extra\n",
    "\n",
    "**Outline Your Talk**\n",
    "\n",
    "1. Introduction\n",
    "2. Topics (1, 2, 3)\n",
    "3. Conclusion\n",
    "\n",
    "**Presentation Checklist**\n",
    "\n",
    "* Has a good title\n",
    "* Tells a story\n",
    "* Only essential info on slides\n",
    "* Appropriate level of detail for audience\n",
    "* Practiced\n",
    "* Orienting audience to all figures\n",
    "* Within time limit\n",
    "* Take-home message explicitly clear\n",
    "\n",
    "**On Your Slides... (Slide Design Matters)**\n",
    "\n",
    "* Limit number of ideas\n",
    "* Limit words\n",
    "* Choose good fonts\n",
    "* Make text readable\n",
    "* Include references\n",
    "\n",
    "**Color**\n",
    "\n",
    "* Rule 1: Choose intuitive colors\n",
    "* Rule 2: Consistency is key\n",
    "* Rule 3: Gray is (definitely) your friend\n",
    "* Bonus: Gradients for continuous, distinct for categories\n",
    "\n",
    "**Design choices alter the <u>tone</u> of your message**\n",
    "\n",
    "**Slides Checklist**\n",
    "\n",
    "* Consistent theme throughout\n",
    "* Tone sets appropriate theme\n",
    "* Good, consistent fonts\n",
    "* Consistent, accessible colors\n",
    "* Important stuff highlighted\n",
    "* Alignment looks good\n",
    "* Appropriate text/font size\n",
    "* Appropriate whitespace\n",
    "* Colors will project well"
   ]
  },
  {
   "attachments": {},
   "cell_type": "markdown",
   "metadata": {},
   "source": [
    "## Visual Communication"
   ]
  },
  {
   "attachments": {},
   "cell_type": "markdown",
   "metadata": {},
   "source": [
    "### Good Figures: Ground Rules\n",
    "\n",
    "1. **Left-align** titles at top-left\n",
    "2. Don't make people **tilt** their head\n",
    "3. Alignment should create **clean lines and symmetry**\n",
    "4. **~~Borders~~** - Don't use them\n",
    "5. **Remove and lighten** as much as possible\n",
    "6. **Legends suck**\n",
    "7. **Whote space is like garlic** - Take the amount you need and triple it"
   ]
  },
  {
   "attachments": {},
   "cell_type": "markdown",
   "metadata": {},
   "source": [
    "### Presentations: For Listening\n",
    "\n",
    "* Don't read directly off slides\n",
    "* Use animation to build your story (not to distract)\n",
    "* Introduce your axes\n",
    "* <u>Benefit</u>: Words to explain out loud what you're showing"
   ]
  },
  {
   "attachments": {},
   "cell_type": "markdown",
   "metadata": {},
   "source": [
    "### Reports: For Reading\n",
    "\n",
    "* More on a single visualization\n",
    "* Explanation must be there in text\n",
    "* <u>Benefit</u>: People have time to look at what you've sent"
   ]
  },
  {
   "attachments": {},
   "cell_type": "markdown",
   "metadata": {},
   "source": [
    "### Visuals Checklist\n",
    "\n",
    "* Have informative titles\n",
    "* Appropriate figures used\n",
    "* Adhering to \"less is more\"\n",
    "* Mappings clear (maybe a legend)\n",
    "* Have consistent colors\n",
    "* Take-home message clear\n",
    "* Alignment all good\n",
    "* Appropriate whitespace\n",
    "\n",
    "Note: This **takes longer than you expect** it would. You can spend <u>hours on a single figure</u>. But, you *worked* really hard to understand the data and do the project. Now it's time to show it off! You get to do this through your presentation of the results - **spend the time to do this effectively**."
   ]
  },
  {
   "attachments": {},
   "cell_type": "markdown",
   "metadata": {},
   "source": [
    "[Looking for **better** poster templates?](https://osf.io/6ua4k)"
   ]
  }
 ],
 "metadata": {
  "language_info": {
   "name": "python"
  },
  "orig_nbformat": 4
 },
 "nbformat": 4,
 "nbformat_minor": 2
}
