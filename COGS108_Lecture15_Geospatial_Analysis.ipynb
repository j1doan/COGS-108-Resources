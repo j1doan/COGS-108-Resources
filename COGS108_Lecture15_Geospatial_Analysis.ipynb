{
 "cells": [
  {
   "attachments": {},
   "cell_type": "markdown",
   "metadata": {},
   "source": [
    "# Lecture 15: Geospatial Analysis"
   ]
  },
  {
   "attachments": {},
   "cell_type": "markdown",
   "metadata": {},
   "source": [
    "## Why Geospatial Analysis?\n",
    "\n",
    "* *\"Everything is related to everything else, but neat things are more related than distant things.\"* (Tobler 1979)\n",
    "* *\"...the purpose of geographic inquiry is to examine relationships between geographic features collectively and to describe the real-world phenomena that map features present.\"* (Clarke 2001)\n",
    "* Clearly visualizes important differences"
   ]
  },
  {
   "attachments": {},
   "cell_type": "markdown",
   "metadata": {},
   "source": [
    "## Visualizing Geospatial Data\n",
    "\n",
    "* Choropleth maps are useful for visualizing *clear regional pattens* in the data\n",
    "* Use light colors for low values, dark colors for high values\n",
    "* Choropleth should display relative differences,*not* absolute numbers\n",
    "* Choropleth maps can be misleading\n",
    "* Consider using the smallest unit possible (but there are exceptions!)"
   ]
  },
  {
   "attachments": {},
   "cell_type": "markdown",
   "metadata": {},
   "source": [
    "### Bubble graphs can represent a third (or fourth!) dimension, giving a sense of relative contribution\n",
    "\n",
    "* Useful for comparing data in 3 numeric-data dimensions\n",
    "* A 4th dimension can be represented by color\n",
    "* XY-data is like a scatterplot with the third axis a circle whose size is determined by the dimension\n",
    "* Helps with relative comparisons\n",
    "* Cannot be used to display a lot of data, difficult to express actual values"
   ]
  },
  {
   "attachments": {},
   "cell_type": "markdown",
   "metadata": {},
   "source": [
    "### Bubble Maps\n",
    "\n",
    "* Coordinates of latitude and longitude\n",
    "* Bubble size is third axis, such as population density, COVID cases, etc.\n",
    "* Notes:\n",
    "    * Consider using area rather than radius to avoid exaggerating bubble sizes\n",
    "    * Transparency for bubbles\n",
    "    * Use a legend"
   ]
  },
  {
   "attachments": {},
   "cell_type": "markdown",
   "metadata": {},
   "source": [
    "## Visualization Choices\n",
    "\n",
    "* Cartograms should be considered when displaying how many people were affected\n",
    "* Isarithmic maps demonstrate smooth, continuous phenomena (temperature, elevation, rainfall, etc.)"
   ]
  },
  {
   "attachments": {},
   "cell_type": "markdown",
   "metadata": {},
   "source": [
    "**CLICKER QUESTION**\n",
    "\n",
    "You want to visualize how many people have been affected by COVID19 worldwide. Best approach to visualize these data?\n",
    "\n",
    "A) Choropleth\n",
    "\n",
    "**B) Cartogram**\n",
    "\n",
    "C) Isarithmic Graph\n",
    "\n",
    "D) Bar Chart\n",
    "\n",
    "E) Scatterplot"
   ]
  },
  {
   "attachments": {},
   "cell_type": "markdown",
   "metadata": {},
   "source": [
    "## Spatial Statistics: The Why"
   ]
  },
  {
   "attachments": {},
   "cell_type": "markdown",
   "metadata": {},
   "source": [
    "### Spatial Statistics\n",
    "\n",
    "The statistical techniques we've discussed so far don't work well when considering spatial distributions...\n",
    "\n",
    "...which means we have a chance to take a look at the data and the relationship between the data in new and interesting ways (distance, adjacency, interaction, and neighbor)"
   ]
  },
  {
   "attachments": {},
   "cell_type": "markdown",
   "metadata": {},
   "source": [
    "### Spatial Data Violate Conventional Statistics\n",
    "\n",
    "Violations of conventional statistics:\n",
    "\n",
    "* Spatial autocorrelation\n",
    "* Modifiable areal unit problem (MAUP)\n",
    "* Edge effects (Boundary problem)\n",
    "* Ecology fallacy\n",
    "* Nonuniformity of space"
   ]
  },
  {
   "attachments": {},
   "cell_type": "markdown",
   "metadata": {},
   "source": [
    "#### Spatial Autocorrelation\n",
    "\n",
    "Data from locations near one another in space are more likely to be similar than data from locations remote from one another:\n",
    "\n",
    "* Housing market\n",
    "* Elevation change\n",
    "* Temperature"
   ]
  },
  {
   "attachments": {},
   "cell_type": "markdown",
   "metadata": {},
   "source": [
    "#### Modificable Areal Unit Problem (MAUP)\n",
    "\n",
    "The aggregation units used are arbitrary with respect to the phenomena under investigation, yet the aggregation units used will affect statistics determined on the basis of data reported in this way.\n",
    "\n",
    "If spatial units in a particular study were specified differently, we might observe very different patterns and relaionships.\n",
    "\n",
    "**Modifiable Area**: Units are arbitrarily defined and different organization of the units may create different analytical results.\n",
    "\n",
    "* Potential problems in almost every field that utilizes spatial data\n",
    "* One of the most stubborn problems in spatial analysis when spatially aggregated data is used"
   ]
  },
  {
   "attachments": {},
   "cell_type": "markdown",
   "metadata": {},
   "source": [
    "#### Edge Effects (Boundary Problem)\n",
    "\n",
    "Analyzing A vs B ignores similarities between the two based on their shared boundary."
   ]
  },
  {
   "attachments": {},
   "cell_type": "markdown",
   "metadata": {},
   "source": [
    "#### Ecological Fallacy\n",
    "\n",
    "The ecological fallacy is a situation that can occur when a researcher or analyst makes an inference about an individual based on aggregate data for a group.\n",
    "\n",
    "**Example**: We might observe a *strong relationship between income and crime at the county level*, with lower-income areas being associated with higher crime rates.\n",
    "\n",
    "**Conclusion:**\n",
    "\n",
    "* Lower-income persons are more likely to commit crime\n",
    "* Lower-income areas are associated with higher crime rates\n",
    "* Lower-inocme counties tend to experience higher crime rates\n",
    "\n",
    "**Issues:**\n",
    "\n",
    "Inferences drawn about associations between the characteristics of an aggregate population and the characteristics of sub-units within the population are wrong. That is: *results from aggregated data (e.g., counties) cannot be applied to individual people.\n",
    "\n",
    "**What should we do?**\n",
    "\n",
    "Be aware of the process of aggregating or disaggregating any data tmay conceal the variations that are not visible at the larger aggregate level."
   ]
  },
  {
   "attachments": {},
   "cell_type": "markdown",
   "metadata": {},
   "source": [
    "#### Nonuniformity of Space\n",
    "\n",
    "**Example:** Crime locations\n",
    "\n",
    "**Conclusion:** Bank robberies are clustered, but only because banks are clusterd"
   ]
  },
  {
   "attachments": {},
   "cell_type": "markdown",
   "metadata": {},
   "source": [
    "**Clicker Question**\n",
    "\n",
    "In Baltimore City, police spend more time in a few neighborhoods. Crime rates are higher in those neighborhoods. What explains what's going on here?\n",
    "\n",
    "A) Spatial Autocorrelation\n",
    "\n",
    "B) MAUP\n",
    "\n",
    "C) Edge Effects\n",
    "\n",
    "D) Ecological Fallacy\n",
    "\n",
    "**E) Nonuniformity**"
   ]
  },
  {
   "attachments": {},
   "cell_type": "markdown",
   "metadata": {},
   "source": [
    "**Clicker Question**\n",
    "\n",
    "A Trader Joe's just opened in a new neighborhood. Nearby homes are now worth more money. What explains what's going on here?\n",
    "\n",
    "**A) Spatial Autocorrelation**\n",
    "\n",
    "B) MAUP\n",
    "\n",
    "C) Edge Effects\n",
    "\n",
    "D) Ecological Fallacy\n",
    "\n",
    "E) Nonuniformity"
   ]
  },
  {
   "attachments": {},
   "cell_type": "markdown",
   "metadata": {},
   "source": [
    "## Spatial Statistics: The Basics\n",
    "\n",
    "**Question:** Are countries with a high conflict index score geographically clustered?"
   ]
  },
  {
   "attachments": {},
   "cell_type": "markdown",
   "metadata": {},
   "source": [
    "### Global Point Density\n",
    "\n",
    "The ratio of observed number of points to the study region's surface area"
   ]
  },
  {
   "attachments": {},
   "cell_type": "markdown",
   "metadata": {},
   "source": [
    "### Quadrat Density (Local)\n",
    "\n",
    "Surface is divided and then point density is calculated within quadrat\n",
    "\n",
    "Note: Quadrat number and shape will affect measurement estimate. Suffers from MAUP."
   ]
  },
  {
   "attachments": {},
   "cell_type": "markdown",
   "metadata": {},
   "source": [
    "### Kernel Density (Local)\n",
    "\n",
    "Point density is calculated within sliding windows (window size = kernel)\n",
    "\n",
    "Note: Kernel will affect measurement estimate, but this is less susceptible to MAUP"
   ]
  },
  {
   "attachments": {},
   "cell_type": "markdown",
   "metadata": {},
   "source": [
    "## Modeling These Data: Poission Point Process\n",
    "\n",
    "(Density-based Methods -- How the points are distributed relative to study space)\n",
    "\n",
    "$$\\lambda(i) = e^{\\alpha + \\beta Z (i)}$$\n",
    "\n",
    "* $\\lambda(i)$ is the modeled density at location i\n",
    "* $e^{\\alpha}$ is the base density when the covariate is zero\n",
    "* $e^{\\beta}$ is the multiplier by which the intensity increases (or decreases) for each 1 unit increase in the covariate\n",
    "\n",
    "The Possion Distribution models events in fixed intervals of time, given a known average rate (and independent occurences)"
   ]
  },
  {
   "attachments": {},
   "cell_type": "markdown",
   "metadata": {},
   "source": [
    "## Modeling These Data: Average Nearest Neighbor\n",
    "\n",
    "(Distance-based Methods -- How the points are distributed relative to study space)\n",
    "\n",
    "* Plot the ANN values for different order neighbors, that is for the first closest point, then the second closest point, and so forth\n",
    "* ANN vs neighbor order offers insight into underlying spatial relationship\n",
    "* Note: Study space definition affects this measure"
   ]
  },
  {
   "attachments": {},
   "cell_type": "markdown",
   "metadata": {},
   "source": [
    "## KNN: K Nearest Neighbor for Classification\n",
    "\n",
    "To which class does the new data point belong?"
   ]
  },
  {
   "attachments": {},
   "cell_type": "markdown",
   "metadata": {},
   "source": [
    "### KNN: Choosing K\n",
    "\n",
    "* K specifies how many neighbors to consider\n",
    "* Note that as more neighbors are considered, the boundary smooths out"
   ]
  },
  {
   "attachments": {},
   "cell_type": "markdown",
   "metadata": {},
   "source": [
    "### KNN: Pros and Cons\n",
    "\n",
    "**Pros:**\n",
    "\n",
    "* No assumptions about data (good for nonlinear)\n",
    "* Simple and interpretable\n",
    "* Relatively high accuracy\n",
    "* Versatile (classification and regression)\n",
    "\n",
    "**Cons:**\n",
    "\n",
    "* Computationally intensive\n",
    "* High memory requirements\n",
    "* Stores all (or most) of training data\n",
    "* Prediction slow with large N\n",
    "* Sensitive to outliers/irrelevant features"
   ]
  },
  {
   "attachments": {},
   "cell_type": "markdown",
   "metadata": {},
   "source": [
    "## Hypothesis Testing: CSR/IRP\n",
    "\n",
    "(Distance-based Methods -- How the points are distributed relative to study space)\n",
    "\n",
    "Compare observed point patterns to ones generated by an independent random process (IRP), aka complete spatial awareness (CSR)\n",
    "\n",
    "CSR/IRP satisfy two conditions:\n",
    "\n",
    "1. Any event has equal probability of being in any function, a 1st order effect\n",
    "2. The location of one event is independent of the location of another event, a 2nd order effect"
   ]
  },
  {
   "attachments": {},
   "cell_type": "markdown",
   "metadata": {},
   "source": [
    "### Hypothesis Testing: A Monte Carlo Test\n",
    "\n",
    "Is this distribution of Walmarts in MA the result of CSR?\n",
    "\n",
    "* $H_{0}$: Distributed randomly (yes CSR)\n",
    "* $H_{a}$: NOT distributed randomly (no CSR)\n",
    "\n",
    "1. First, we postulate a process - our null hypothesis $H_{0}$. For example, we hypothesize that the distribution of Walmart stores is consistent with a completely random process (CSR).\n",
    "2. Next, we simulate many realizations of our postulated process and compute a statistic (e.g., ANN) for each realization.\n",
    "3. Finally, we compare our observed data to the patterns generated by our simulated processes and assess (via a measure of probability) if our pattern is a likely realization of the hypothesized process.\n",
    "\n",
    "This is an example of bootstrapping!"
   ]
  },
  {
   "attachments": {},
   "cell_type": "markdown",
   "metadata": {},
   "source": [
    "Failing to reject the null suggests that our results come from a CSR.\n",
    "\n",
    "When controlling for population density, are Walmarts randomly distributed?\n",
    "\n",
    "* $H_{0}$: Walmarts are distributed according to population density alone\n",
    "* $H_{a}$: Walmarts are *not* distributed based on population density alone\n",
    "\n",
    "Two randomly generated point pattens using population density is used as the underlying process."
   ]
  },
  {
   "attachments": {},
   "cell_type": "markdown",
   "metadata": {},
   "source": [
    "Rejecting the null means population is not the sole driving force!\n",
    "\n",
    "Maybe median household income is the driving force?\n",
    "\n",
    "...Is it CSR or median household income?\n",
    "\n",
    "Hints at plausible scenarios, but doesn't tell us which one it is definitively."
   ]
  },
  {
   "attachments": {},
   "cell_type": "markdown",
   "metadata": {},
   "source": [
    "## Basic Geospatial Analysis: Summary\n",
    "\n",
    "1. Considerations when visualizing spatial data important to conclusions drawn\n",
    "\n",
    "* Values to plot?\n",
    "* Map type?\n",
    "* Color scale?\n",
    "\n",
    "2. Traditional statistics fail with geospatial data\n",
    "\n",
    "* Spatial autocorrelation\n",
    "* MAUP\n",
    "* Edge effects\n",
    "* Ecological fallacy\n",
    "* Nonuniformity of space\n",
    "\n",
    "3. Analysis is still possible\n",
    "\n",
    "* Global Point Density, Quadrat Density, Kernel Density\n",
    "* Poisson Point Process\n",
    "* K-Nearest Neighbor (k-NN)\n",
    "* Comparison to a CRP (using simulation)"
   ]
  },
  {
   "cell_type": "markdown",
   "metadata": {},
   "source": []
  }
 ],
 "metadata": {
  "kernelspec": {
   "display_name": "Python 3",
   "language": "python",
   "name": "python3"
  },
  "language_info": {
   "name": "python",
   "version": "3.10.3"
  },
  "orig_nbformat": 4
 },
 "nbformat": 4,
 "nbformat_minor": 2
}
