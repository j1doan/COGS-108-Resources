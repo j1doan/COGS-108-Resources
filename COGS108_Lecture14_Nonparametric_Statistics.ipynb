{
 "cells": [
  {
   "attachments": {},
   "cell_type": "markdown",
   "metadata": {},
   "source": [
    "# Lecture 14: Nonparametic Statistics"
   ]
  },
  {
   "attachments": {},
   "cell_type": "markdown",
   "metadata": {},
   "source": [
    "## Non-parametric Statistics: The Why\n",
    "\n",
    "Normal distribution is nice and friendly; we have good math for this.\n",
    "\n",
    "**Parameters** (like mean and variance) cannot fully and accurately capture this distribution! Hence, we require **non-parametric statistics**."
   ]
  },
  {
   "attachments": {},
   "cell_type": "markdown",
   "metadata": {},
   "source": [
    "### When To Turn To Non-Parametric Statistics\n",
    "\n",
    "* When underlying distributions are non-normal, skewed, or cannot be parameterized simply\n",
    "* When you have ranked (ordinal) data, e.g., preferences\n",
    "* When you need to build an empirical \"null\" distribution"
   ]
  },
  {
   "attachments": {},
   "cell_type": "markdown",
   "metadata": {},
   "source": [
    "### Non-Parametric Statistics: Distribtion Free\n",
    "\n",
    "* Myth: Non-parametric statistics do not use parameters\n",
    "* Fact: Non-parametric statistics do not make *assumptions about*/parameterize the underlying distribution generating the data\n",
    "* \"Distribution-Free\" Statistics\n",
    "    * Meaning, it does not assume data-generating process (like heights) result in, e.g., normally-distributed data"
   ]
  },
  {
   "attachments": {},
   "cell_type": "markdown",
   "metadata": {},
   "source": [
    "**CLICKER QUESTION**\n",
    "\n",
    "Which of the following variables contain ordinal data?\n",
    "\n",
    "A) Favorite pet\n",
    "\n",
    "B) Distance traveled by car each day\n",
    "\n",
    "**C) Survey responses (scale from \"dislike\" to \"like\")**\n",
    "\n",
    "D) Human height\n",
    "\n",
    "E) Human hair color"
   ]
  },
  {
   "attachments": {},
   "cell_type": "markdown",
   "metadata": {},
   "source": [
    "## Resampling Statistics: The What\n",
    "\n",
    "* Bootstrap (Monte Carlo)\n",
    "* Rank Statistics (Mann Whitney U)\n",
    "* Kolmogorov-Smirnoff Test\n",
    "* Non-parametric prediction models"
   ]
  },
  {
   "attachments": {},
   "cell_type": "markdown",
   "metadata": {},
   "source": [
    "### Bootstrapping (Resampling)\n",
    "\n",
    "How can we build a more realistic \"null distribution\" for the sample estimate without knowing the population it's drawn from?"
   ]
  },
  {
   "attachments": {},
   "cell_type": "markdown",
   "metadata": {},
   "source": [
    "### Rank Statistics\n",
    "\n",
    "We rank things in the real world *all the time*!\n",
    "\n",
    "* International rankings (economics, happiness, government performance)\n",
    "* Sports (teams, players, leagues)\n",
    "* Search engines\n",
    "* Academic journal prestige\n",
    "* Online reviews"
   ]
  },
  {
   "attachments": {},
   "cell_type": "markdown",
   "metadata": {},
   "source": [
    "#### Rank Statistics\n",
    "\n",
    "Data are transformed from their quantitative value to their rank:\n",
    "\n",
    "**Ordinal data**: Categorical, where the variables have a natural order\n",
    "\n",
    "Quantitative Data [1, 4.5, 6.6, 9.2] -> Ordinal Data [1, 2, 3, 4]\n",
    "\n",
    "Particularly helpful when data have a ranking but no clear numerical representation (i.e., movie reviews)"
   ]
  },
  {
   "attachments": {},
   "cell_type": "markdown",
   "metadata": {},
   "source": [
    "**CLICKER QUESTION**\n",
    "\n",
    "What would the rank of the following list be? [77, 49, 23, 10, 89]\n",
    "\n",
    "A) [1, 2, 3, 4, 5]\n",
    "\n",
    "B) [5, 4, 3, 2, 1]\n",
    "\n",
    "**C) [4, 3, 2, 1, 5]**\n",
    "\n",
    "D) [2, 1, 1, 1, 2]"
   ]
  },
  {
   "attachments": {},
   "cell_type": "markdown",
   "metadata": {},
   "source": [
    "### Wilcoxon Rank Sum Test (Mann Whitney U Test)\n",
    "\n",
    "* Determine whether two independent samples were selected from the same populations, having the same distribution\n",
    "* Similar to t-test (but does not require normal distributions) & tests median\n",
    "\n",
    "Assumptions\n",
    "\n",
    "* Observations in each group are independent of one another\n",
    "* Responses are ordinal\n",
    "\n",
    "* $H_{0}$: Distributions of both populations are equal\n",
    "* $H_{a}$: Distributions are *not* equal"
   ]
  },
  {
   "attachments": {},
   "cell_type": "markdown",
   "metadata": {},
   "source": [
    "#### Mann-Whitney U: Example\n",
    "\n",
    "In a clinical trial, is there a difference in the number of episodes of shortness of breath between placebo and treatment?\n",
    "\n",
    "* Step 1: Participants record number of episodes they have\n",
    "* Step 2: Episodes from both groups are combined, sorted, and ranked\n",
    "* Step 3: Resort the ranks into separate samples (placebo vs. treatment)\n",
    "* Step 4: Carry out statistical test"
   ]
  },
  {
   "attachments": {},
   "cell_type": "markdown",
   "metadata": {},
   "source": [
    "#### Mann-Whitney U: Calculating the U Statistic\n",
    "\n",
    "$$U_{A} = n_{a}n_{b} + \\frac{n_{a}(n_{a}+1)}{2} - T_{A}$$\n",
    "\n",
    "* $\\frac{n_{a}(n_{a}+1)}{2}$ = The max possible value of $T_{A}$\n",
    "* $T_{A}$ = The observed sum of ranks for sample A\n",
    "* $H_{0}$: Low and high scores are approximately evenly distributed in the two groups\n",
    "* $H_{a}$: Low and high scores are NOT evenly distributed in the two groups (U <= 2)\n",
    "* $0 < U < n_{1}*n_{2}$ : Complete separation -> No separation\n",
    "    * $n_{a}$ = Number of elements in Group A\n",
    "    * $n_{b}$ = Number of elements in Group B\n",
    "* **We reject the null if U is small**"
   ]
  },
  {
   "attachments": {},
   "cell_type": "markdown",
   "metadata": {},
   "source": [
    "### Kolmogorov-Smirnov (KS) Test\n",
    "\n",
    "Given (limited) samples from two populations, how do we quantify rather whether they come from the same distribution?"
   ]
  },
  {
   "attachments": {},
   "cell_type": "markdown",
   "metadata": {},
   "source": [
    "Compare cumulative distributions empirically.\n",
    "\n",
    "Find the maximum difference between the CDFs.\n",
    "\n",
    "Tests:\n",
    "\n",
    "* Whether a sample is drawn from a given distribution\n",
    "* Whether two samples are drawn from the same distribution"
   ]
  },
  {
   "attachments": {},
   "cell_type": "markdown",
   "metadata": {},
   "source": [
    "### Non-Parametric Prediction Models\n",
    "\n",
    "* When you have lots of data and no prior knowledge\n",
    "* When you're not focused/worried about choosing the right features\n",
    "* Goal: Fit training data while being able to generalize unseen data\n",
    "\n",
    "Examples:\n",
    "\n",
    "* k-NN (k-Nearest Neighbors)\n",
    "* Decision Trees (CART)\n",
    "* Support Vector Machines (SVM)"
   ]
  },
  {
   "attachments": {},
   "cell_type": "markdown",
   "metadata": {},
   "source": [
    "#### Why Do We Even Teach/Use Parametric Statistics Anyway?\n",
    "\n",
    "Parametric Approaches:\n",
    "\n",
    "* Lots of data follow unexpected patterns\n",
    "* Requires less data\n",
    "* More sensitive\n",
    "* Quicker to run/train/predict\n",
    "* More resistant to overfitting"
   ]
  }
 ],
 "metadata": {
  "kernelspec": {
   "display_name": "Python 3",
   "language": "python",
   "name": "python3"
  },
  "language_info": {
   "name": "python",
   "version": "3.10.3"
  },
  "orig_nbformat": 4,
  "vscode": {
   "interpreter": {
    "hash": "3fe2205da32040b154459eec850e3f422ef2283e8249ac36b1b4a45364cc60d7"
   }
  }
 },
 "nbformat": 4,
 "nbformat_minor": 2
}
