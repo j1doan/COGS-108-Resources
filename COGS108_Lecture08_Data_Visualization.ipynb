{
 "cells": [
  {
   "attachments": {},
   "cell_type": "markdown",
   "metadata": {},
   "source": [
    "# Lecture 8: Data Visualization"
   ]
  },
  {
   "attachments": {},
   "cell_type": "markdown",
   "metadata": {},
   "source": [
    "**Tools**\n",
    "\n",
    "* `seaborn` - generating tools\n",
    "* `pandas` - wrangling data\n",
    "* `matplotlib` - fine tuning plots\n",
    "\n",
    "**Plotting**\n",
    "\n",
    "* Quantitative data\n",
    "* Categorical data\n",
    "\n",
    "**Customizing Visualizations**"
   ]
  },
  {
   "attachments": {},
   "cell_type": "markdown",
   "metadata": {},
   "source": [
    "A good visualization can help you:\n",
    "\n",
    "* Identify anomalies in your data\n",
    "* Better understand your own data\n",
    "* Communicate your findings"
   ]
  },
  {
   "attachments": {},
   "cell_type": "markdown",
   "metadata": {},
   "source": [
    "## Quick Introduction\n",
    "\n",
    "95%+ of the plots fall into just a few types:\n",
    "\n",
    "* Single variable\n",
    "    * Continuous\n",
    "    * Discrete\n",
    "* Discrete vs discrete\n",
    "* Discrete vs continuous\n",
    "* Continuous vs continuous"
   ]
  },
  {
   "attachments": {},
   "cell_type": "markdown",
   "metadata": {},
   "source": [
    "## Basic Visualizations\n",
    "\n",
    "* Histograms\n",
    "* Desntiy plots\n",
    "* Scatterplots\n",
    "* Bar plots\n",
    "    * Grouped bar plots\n",
    "    * Stacked bar plots\n",
    "* Box plots (and related things like violin plots, etc.)\n",
    "* Line plot"
   ]
  },
  {
   "attachments": {},
   "cell_type": "markdown",
   "metadata": {},
   "source": [
    "## Variable Types: Plots\n",
    "\n",
    "* Statistical distribution of quantitative variables\n",
    "    * Single variable\n",
    "        * Histogram\n",
    "        * Density plot\n",
    "    * Single variable x Categorical variable\n",
    "        * Box plot\n",
    "* Count data\n",
    "    * Count data x Categorical variable\n",
    "        * Bar plot\n",
    "    * Count data x 2 Categorical variables\n",
    "        * Grouped bar plot\n",
    "        * Stacked bar plot\n",
    "* Directly view quantitative variables\n",
    "    * One variable x Time\n",
    "        * Line plot\n",
    "    * One variable x Time X Categorical variable\n",
    "        * Multiple lines on the same plot\n",
    "    * Two (or maybe 3) quantitative variables\n",
    "        * Scatterplot"
   ]
  },
  {
   "attachments": {},
   "cell_type": "markdown",
   "metadata": {},
   "source": [
    "### Histograms\n",
    "\n",
    "Information about a **single quantitative** variable"
   ]
  },
  {
   "attachments": {},
   "cell_type": "markdown",
   "metadata": {},
   "source": [
    "### Density Plots\n",
    "\n",
    "Information about a **single quantitative** variable"
   ]
  },
  {
   "attachments": {},
   "cell_type": "markdown",
   "metadata": {},
   "source": [
    "### Scatterplot\n",
    "\n",
    "Relationship between **two quantitative** variables"
   ]
  },
  {
   "attachments": {},
   "cell_type": "markdown",
   "metadata": {},
   "source": [
    "### Bar Plot\n",
    "\n",
    "Count of values within a **single categorical** variable"
   ]
  },
  {
   "attachments": {},
   "cell_type": "markdown",
   "metadata": {},
   "source": [
    "### Grouped Bar Plot\n",
    "\n",
    "Count of values broken down across **two categorical** variables"
   ]
  },
  {
   "attachments": {},
   "cell_type": "markdown",
   "metadata": {},
   "source": [
    "### Stacked Bar Plot\n",
    "\n",
    "Count/proportion of values broken down across **two categorical** variables"
   ]
  },
  {
   "attachments": {},
   "cell_type": "markdown",
   "metadata": {},
   "source": [
    "### Box Plot\n",
    "\n",
    "Summary of a **quantitative variable** broken down by a **categorical variable**"
   ]
  },
  {
   "attachments": {},
   "cell_type": "markdown",
   "metadata": {},
   "source": [
    "### Line Plot\n",
    "\n",
    "**Quantitative** trend over **time**\n",
    "\n",
    "* Single series\n",
    "* Two series\n",
    "* Multiple series"
   ]
  },
  {
   "attachments": {},
   "cell_type": "markdown",
   "metadata": {},
   "source": [
    "**CLICKER QUESTION:**\n",
    "\n",
    "You want to visualize how many people in your dataset prefer chocolate chip cookies and how many prefer oatmeal raisin cookies.\n",
    "\n",
    "What type of visualization would be most appropriate?\n",
    "\n",
    "A) Histogram\n",
    "\n",
    "B) Scatterplot\n",
    "\n",
    "**C) Bar Plot**\n",
    "\n",
    "D) Box Plot\n",
    "\n",
    "E) Line Plot"
   ]
  },
  {
   "attachments": {},
   "cell_type": "markdown",
   "metadata": {},
   "source": [
    "**CLICKER QUESTION:**\n",
    "\n",
    "You're interested in visualizing how many servings of milk an individual drinks each day among those who prefer chocolate chip cookies and those prefer oatmeal raisin cookies.\n",
    "\n",
    "What type of visualization would be most appropriate?\n",
    "\n",
    "A) Histogram\n",
    "\n",
    "B) Scatterplot\n",
    "\n",
    "C) Bar Plot\n",
    "\n",
    "**D) Box Plot**\n",
    "\n",
    "E) Line Plot"
   ]
  },
  {
   "attachments": {},
   "cell_type": "markdown",
   "metadata": {},
   "source": [
    "**CLICKER QUESTION:**\n",
    "\n",
    "You're interested in visualizing how many servings of milk an individual drinks each year over the course of their life?\n",
    "\n",
    "What type of visualization would be most appropriate?\n",
    "\n",
    "A) Histogram\n",
    "\n",
    "B) Scatterplot\n",
    "\n",
    "C) Bar Plot\n",
    "\n",
    "D) Box Plot\n",
    "\n",
    "**E) Line Plot**"
   ]
  },
  {
   "attachments": {},
   "cell_type": "markdown",
   "metadata": {},
   "source": [
    "## Plotting in Python: Getting Started"
   ]
  },
  {
   "cell_type": "code",
   "execution_count": null,
   "metadata": {},
   "outputs": [],
   "source": [
    "# import working with data libraries\n",
    "import pandas as pd\n",
    "import numpy as np\n",
    "\n",
    "# import seaborn\n",
    "import seaborn as sns\n",
    "\n",
    "# import matplotlib\n",
    "import matplotlib.pyplot as plt\n",
    "import matplotlib as mpl\n",
    "\n",
    "# improve resolution\n",
    "# comment this line if erroring on your machine\n",
    "%config InlineBackend.figure_format = 'retina'"
   ]
  },
  {
   "cell_type": "code",
   "execution_count": null,
   "metadata": {},
   "outputs": [],
   "source": [
    "sns.__version__"
   ]
  },
  {
   "attachments": {},
   "cell_type": "markdown",
   "metadata": {},
   "source": [
    "### Class Data\n",
    "\n",
    "With the libraries we imported, the first dataset we'll use today is data from the COGS 108 class survey from the Spring of 2019."
   ]
  },
  {
   "cell_type": "code",
   "execution_count": null,
   "metadata": {},
   "outputs": [],
   "source": [
    "df = pd.read_csv(\"https://github.com/COGS108/Lectures-Sp22/raw/master/03_ethics/data/df_for_viz.csv\")"
   ]
  },
  {
   "cell_type": "code",
   "execution_count": null,
   "metadata": {},
   "outputs": [],
   "source": [
    "df.shape"
   ]
  },
  {
   "cell_type": "code",
   "execution_count": null,
   "metadata": {},
   "outputs": [],
   "source": [
    "df.head()"
   ]
  },
  {
   "attachments": {},
   "cell_type": "markdown",
   "metadata": {},
   "source": [
    "Wrangling that's been done:\n",
    "\n",
    "* Removed lots of identifying information\n",
    "* Standardized gender and job\n",
    "* Separated out programming responses"
   ]
  },
  {
   "cell_type": "code",
   "execution_count": null,
   "metadata": {},
   "outputs": [],
   "source": [
    "df.describe()"
   ]
  },
  {
   "attachments": {},
   "cell_type": "markdown",
   "metadata": {},
   "source": [
    "### Quantitative Variables\n",
    "\n",
    "* Histograms\n",
    "* Density Plots\n",
    "* Scatterplots"
   ]
  },
  {
   "attachments": {},
   "cell_type": "markdown",
   "metadata": {},
   "source": [
    "### Histograms and Density Plots\n",
    "\n",
    "Histograms and density plots are helpful for visualizing informaiton about a *single quantitative variable*.\n",
    "\n",
    "We can use seaborn's `histplot` function (`distplot` in older versions of `seaborn`)"
   ]
  },
  {
   "cell_type": "code",
   "execution_count": null,
   "metadata": {},
   "outputs": [],
   "source": [
    "# set plotting size parameter\n",
    "plt.rcParams['figure.figsize'] = (17, 7)    # default plot size to output"
   ]
  },
  {
   "cell_type": "code",
   "execution_count": null,
   "metadata": {},
   "outputs": [],
   "source": [
    "sns.set_theme(context='notebook', style='white', font_scale=2, rc={'axes.spines.right': False, 'axes.spines.top' : False})"
   ]
  },
  {
   "cell_type": "code",
   "execution_count": null,
   "metadata": {},
   "outputs": [],
   "source": [
    "# histogram\n",
    "# `distplot` in older versions of `seaborn`\n",
    "sns.histplot(df['statistics'], bins=10, kde=False)"
   ]
  },
  {
   "attachments": {},
   "cell_type": "markdown",
   "metadata": {},
   "source": [
    "One thing to note about histograms is the fact the the number of bind displayed plays a large roles in what the viewer takes away from the visualization. "
   ]
  },
  {
   "cell_type": "code",
   "execution_count": null,
   "metadata": {},
   "outputs": [],
   "source": [
    "# `distplot` in older versions of seaborn\n",
    "# just histogram - set kde = False\n",
    "sns.histplot(df['statistics'], bins = 20)\n",
    "\n",
    "# alternative approach using pandas\n",
    "# df['statistics'].hist(bins=10)"
   ]
  },
  {
   "attachments": {},
   "cell_type": "markdown",
   "metadata": {},
   "source": [
    "This doesn't follow \"visualization best practices.\""
   ]
  },
  {
   "attachments": {},
   "cell_type": "markdown",
   "metadata": {},
   "source": [
    "### Visualization Best Practices\n",
    "\n",
    "* Choose the right type of visualization\n",
    "* Be mindful when choosing colors\n",
    "* Label your axes\n",
    "* Make text big enough\n",
    "* Keep it simple\n",
    "* Less is more:\n",
    "    * Aim to to improve your data:ink ratio\n",
    "    * Everything on the page should serve a purpose. If it doesn't, remove it."
   ]
  },
  {
   "attachments": {},
   "cell_type": "markdown",
   "metadata": {},
   "source": [
    "### Best Practices Examples\n",
    "\n",
    "**Example #1: Pie Chart**\n",
    "\n",
    "Ideas:\n",
    "\n",
    "* Pros:\n",
    "    * Consistent colors from left to right\n",
    "    * Values provided for each slice\n",
    "    * Overall picture\n",
    "* Cons:\n",
    "    * Text size\n",
    "    * Legend not ideal\n",
    "    * Colors are not intuitive\n",
    "    * Pie chart not ideal because of number of categories\n",
    "\n",
    "Suggestions:\n",
    "\n",
    "* Different visualization: Stacked Barplot?"
   ]
  },
  {
   "attachments": {},
   "cell_type": "markdown",
   "metadata": {},
   "source": [
    "## Less Is More\n",
    "\n",
    "The *less is more* approach suggests that we should probably get rid of this background color now and remove the gridlines. We'll use less is more approach as we work through the other types of visualizations."
   ]
  },
  {
   "attachments": {},
   "cell_type": "markdown",
   "metadata": {},
   "source": [
    "Lets improve that now for our original plot..."
   ]
  },
  {
   "cell_type": "code",
   "execution_count": null,
   "metadata": {},
   "outputs": [],
   "source": [
    "# `distplot` in older versions of seaborn\n",
    "# change color to dark gray\n",
    "ax = sns.histplot(df['statistics'], kde=False, bins=10, color='#686868')\n",
    "\n",
    "# remove the top and right lines\n",
    "sns.despine()\n",
    "\n",
    "# add title and axis labels (modify x-axis label)\n",
    "ax.set_title('Most COGS 108 students are moderately comfortable with statistics.')\n",
    "ax.set_ylabel('Count')\n",
    "ax.set_xlabel('How comfortable are you with statistics?')"
   ]
  },
  {
   "cell_type": "code",
   "execution_count": null,
   "metadata": {},
   "outputs": [],
   "source": [
    "# kdeplot to only display the density plot\n",
    "ax = sns.kdeplot(df['programming'], color='#686868')\n",
    "\n",
    "# remove the top and right lines\n",
    "sns.despine()\n",
    "\n",
    "# add title and axis labels (modify x-axis label)\n",
    "ax.set_title('Most COGS 108 students are pretty comfortable with programming.')\n",
    "ax.set_ylabel('Count')\n",
    "ax.set_xlabel('How comfortable are you with programming?')"
   ]
  },
  {
   "attachments": {},
   "cell_type": "markdown",
   "metadata": {},
   "source": [
    "## Scatterplots\n",
    "\n",
    "Scatterplots can help visualize the relationship between **two quantitative variables**."
   ]
  },
  {
   "cell_type": "code",
   "execution_count": null,
   "metadata": {},
   "outputs": [],
   "source": [
    "sns.scatterplot(x='programming', y='statistics', data=df, alpha=0.1)\n",
    "\n",
    "# alternative with pandas\n",
    "df.plot.scatter('programming', 'statistics')"
   ]
  },
  {
   "cell_type": "code",
   "execution_count": null,
   "metadata": {},
   "outputs": [],
   "source": [
    "# jitter points to see relationship, try different levels of it\n",
    "sns.lmplot(x='programming', y='statistics', data=df, fit_reg=False, height=6, aspect=2, x_jitter=0.15, y_jitter=0.15)"
   ]
  },
  {
   "cell_type": "code",
   "execution_count": null,
   "metadata": {},
   "outputs": [],
   "source": [
    "# fit a linear model, showing the line of best fit\n",
    "# and also a 95% confidence interval on the fit\n",
    "sns.lmplot(x='programming', y='statistics', data=df, fit_reg=True, height=6, aspect=2, x_jitter=0.20, y_jitter=0.20)"
   ]
  },
  {
   "attachments": {},
   "cell_type": "markdown",
   "metadata": {},
   "source": [
    "## Scatterplots (By A Categorical Variable)\n",
    "\n",
    "When you want to plot two numeric values but want to ger some insight about a *third* categorical variable, you can color the points on the plot by the categorical variable."
   ]
  },
  {
   "cell_type": "code",
   "execution_count": null,
   "metadata": {},
   "outputs": [],
   "source": [
    "# control color palette\n",
    "unique = df['lecture_attendance'].append(df['gender']).unique()\n",
    "palette = dict(zip(unique, sns.color_palette()))\n",
    "palette.update({'Total' : 'k'})\n",
    "print(palette)"
   ]
  },
  {
   "cell_type": "code",
   "execution_count": null,
   "metadata": {},
   "outputs": [],
   "source": [
    "# control color palette\n",
    "unique = df['lecture_attendance'].append(df['gender']).unique()\n",
    "palette = dict(zip(unique, sns.color_palette()))\n",
    "palette.update({'Total' : 'k'})"
   ]
  },
  {
   "cell_type": "code",
   "execution_count": null,
   "metadata": {},
   "outputs": [],
   "source": [
    "# color points by gender\n",
    "sns.lmplot(x='programming', y='statistics', data=df, hue = 'gender', fit_reg=True, height=6, aspect=2, x_jitter=0.5, y_jitter=0.5, palette=palette)"
   ]
  },
  {
   "cell_type": "code",
   "execution_count": null,
   "metadata": {},
   "outputs": [],
   "source": [
    "# color points by lecture attendance\n",
    "sns.lmplot(x='programming', y='statistics', data=df, hue = 'lecture_attendance', fit_reg=True, height=6, aspect=2, x_jitter=0.5, y_jitter=0.5, palette=palette)"
   ]
  },
  {
   "attachments": {},
   "cell_type": "markdown",
   "metadata": {},
   "source": [
    "## Categorical Variables"
   ]
  },
  {
   "attachments": {},
   "cell_type": "markdown",
   "metadata": {},
   "source": [
    "### Barplots"
   ]
  },
  {
   "cell_type": "code",
   "execution_count": null,
   "metadata": {},
   "outputs": [],
   "source": [
    "# generate default barplot\n",
    "sns.countplot(x='lecture_attendance', data=df)"
   ]
  },
  {
   "cell_type": "code",
   "execution_count": null,
   "metadata": {},
   "outputs": [],
   "source": [
    "ax = sns.countplot(x='lecture_attendance', \n",
    "                   data=df, color = '#686868')\n",
    "\n",
    "# add title and axis labels (modify x-axis label)\n",
    "ax.set_title('Most COGS108 students prefer to attend lecture')\n",
    "ax.set_ylabel('Count')\n",
    "ax.set_xlabel('Lecture Attendance Preference')\n",
    "# set tick labels\n",
    "ax.set_xticklabels((\"attend\", \"not attend\"))"
   ]
  },
  {
   "cell_type": "code",
   "execution_count": null,
   "metadata": {},
   "outputs": [],
   "source": [
    "ax = sns.countplot(x='gender', data=df, color='#686868')\n",
    "\n",
    "# add title and axis labels (modify x-axis label)\n",
    "ax.set_title('There are more males than females in COGS108')\n",
    "ax.set_ylabel('Count') \n",
    "ax.set_xlabel('Gender')"
   ]
  },
  {
   "attachments": {},
   "cell_type": "markdown",
   "metadata": {},
   "source": [
    "It's often a good idea to order axes from largest to smallest for categorical data."
   ]
  },
  {
   "cell_type": "code",
   "execution_count": null,
   "metadata": {},
   "outputs": [],
   "source": [
    "ax = sns.countplot(x='gender', data=df, color = '#686868',\n",
    "             order=['male', 'female', 'other or prefer not to say'])\n",
    "\n",
    "# add title and axis labels (modify x-axis label)\n",
    "ax.set_title('Male is the most prevalent gender in COGS108.')\n",
    "ax.set_ylabel('Count')\n",
    "ax.set_xlabel('Gender')"
   ]
  },
  {
   "cell_type": "code",
   "execution_count": null,
   "metadata": {},
   "outputs": [],
   "source": [
    "# warning: not seaborn\n",
    "# pandas approach\n",
    "# proportion of the class familiar with each programming language\n",
    "a = df.iloc[:,5:11].sum()/len(df)\n",
    "a = a.sort_values(axis=0, ascending=False)\n",
    "a.plot.bar(color='#686868', rot=0)"
   ]
  },
  {
   "attachments": {},
   "cell_type": "markdown",
   "metadata": {},
   "source": [
    "### Grouped Barplots"
   ]
  },
  {
   "cell_type": "code",
   "execution_count": null,
   "metadata": {},
   "outputs": [],
   "source": [
    "# same color palette as defined earlier\n",
    "# generate grouped barplot by specifying hue\n",
    "ax = sns.countplot(x='lecture_attendance', hue='gender',\n",
    "                   data=df, palette=palette, )\n",
    "\n",
    "# add title and axis labels (modify x-axis label)\n",
    "ax.set_title('Most COGS108 students prefer to attend lecture')\n",
    "ax.set_ylabel('Count')\n",
    "ax.set_xlabel('Lecture Attendance Preference')\n",
    "ax.set_xticklabels(('attend', 'not attend'))"
   ]
  },
  {
   "attachments": {},
   "cell_type": "markdown",
   "metadata": {},
   "source": [
    "Because we have different numbers of males and females, comparing counts is not all that helpful...\n",
    "\n",
    "We need proportions."
   ]
  },
  {
   "attachments": {},
   "cell_type": "markdown",
   "metadata": {},
   "source": [
    "### Stacked Barplots"
   ]
  },
  {
   "cell_type": "code",
   "execution_count": null,
   "metadata": {},
   "outputs": [],
   "source": [
    "# warning: this is not seaborn\n",
    "df2 = df.groupby([ 'lecture_attendance','gender'])['lecture_attendance'].count().unstack('gender').fillna(0)\n",
    "sub_df2 = np.transpose(df2.div(df2.sum()))\n",
    "\n",
    "# generate plot\n",
    "ax = sub_df2.plot(kind='bar', stacked=True, rot=0,\n",
    "                  title='Lecture Attendance does not appear to differ by gender')\n",
    "\n",
    "# customize plot\n",
    "ax.legend(('not attend','attend'), loc='center left', bbox_to_anchor=(1.0, 0.5))\n",
    "ax.set_ylabel(\"Proportion of students\")"
   ]
  },
  {
   "attachments": {},
   "cell_type": "markdown",
   "metadata": {},
   "source": [
    "## More Plots\n",
    "\n",
    "* Boxplots (quantitative + categorical)\n",
    "* Lineplots (quantitative over time)"
   ]
  },
  {
   "attachments": {},
   "cell_type": "markdown",
   "metadata": {},
   "source": [
    "### Box Plots\n",
    "\n",
    "By default, the box delineates the 25th and 75th percentile. The line down the middle represents the median. \"Whiskers\" extend to show the range for the rest of the data, excluding outliers. Outliers are marked as individual points outside of the whiskers."
   ]
  },
  {
   "cell_type": "code",
   "execution_count": null,
   "metadata": {},
   "outputs": [],
   "source": [
    "# generate boxplots\n",
    "sns.boxplot(y='statistics', x='gender', data=df)"
   ]
  },
  {
   "attachments": {},
   "cell_type": "markdown",
   "metadata": {},
   "source": [
    "### Outlier Determination\n",
    "\n",
    "Outliers show up as individual points on boxplots. But, we don't see any on this boxplot. Let's see why..."
   ]
  },
  {
   "cell_type": "code",
   "execution_count": null,
   "metadata": {},
   "outputs": [],
   "source": [
    "# determine the 25th and 75th percentiles\n",
    "lower, upper = np.percentile(df['statistics'], [25, 75])\n",
    "lower, upper"
   ]
  },
  {
   "cell_type": "code",
   "execution_count": null,
   "metadata": {},
   "outputs": [],
   "source": [
    "# calculate IQR\n",
    "iqr = upper - lower\n",
    "iqr"
   ]
  },
  {
   "attachments": {},
   "cell_type": "markdown",
   "metadata": {},
   "source": [
    "Typically, the inter-quartile range (IQR) is used to determine which values get marked as outliers. The IQR is: 75th percentile - 25th percentile. Values greater than 1.5 x IQR above the 75th or below the 25th percentile are marked as outliers."
   ]
  },
  {
   "cell_type": "code",
   "execution_count": null,
   "metadata": {},
   "outputs": [],
   "source": [
    "# calculate lower cutoff\n",
    "# values below this are outliers \n",
    "lower_cutoff = lower - 1.5 * iqr\n",
    "\n",
    "# calculate upper cutoff\n",
    "# values above this are outliers \n",
    "upper_cutoff = upper + 1.5 * iqr\n",
    "\n",
    "lower_cutoff, upper_cutoff"
   ]
  },
  {
   "attachments": {},
   "cell_type": "markdown",
   "metadata": {},
   "source": [
    "Boxplots really shine when you want to look at the range of typical values for a quantitative variable, broken down by a separate categorical variable."
   ]
  },
  {
   "cell_type": "code",
   "execution_count": null,
   "metadata": {},
   "outputs": [],
   "source": [
    "# generate boxplots\n",
    "# we can make sure the colors match what we used earlier for the same groups\n",
    "ax = sns.boxplot(x='gender', y='statistics', data=df)\n",
    "\n",
    "ax.set_title('Gender not related to comfort with statistics')\n",
    "ax.set_ylabel('Comfort with Statistics')\n",
    "ax.set_xlabel('Gender')"
   ]
  },
  {
   "cell_type": "code",
   "execution_count": null,
   "metadata": {},
   "outputs": [],
   "source": [
    "# generate boxplots\n",
    "# we can make sure the colors match what we used earlier for the same groups\n",
    "ax = sns.boxplot(x='gender', y='statistics', data=df, palette=palette)\n",
    "\n",
    "ax.set_title('Gender not related to comfort with statistics')\n",
    "ax.set_ylabel('Comfort with Statistics')\n",
    "ax.set_xlabel('Gender')"
   ]
  },
  {
   "attachments": {},
   "cell_type": "markdown",
   "metadata": {},
   "source": [
    "## Histograms (By A Categorical Variable)\n",
    "\n",
    "The same data plotted as a histogram are not so easily interpretable."
   ]
  },
  {
   "cell_type": "code",
   "execution_count": null,
   "metadata": {},
   "outputs": [],
   "source": [
    "# `distplot` in older versions of `seaborn`\n",
    "sns.histplot(df.loc[df['gender'] == 'female', 'statistics'], kde=True, color=\"red\")\n",
    "sns.histplot(df.loc[df['gender'] == 'male', 'statistics'], kde=True, color=\"purple\")\n",
    "sns.histplot(df.loc[df['gender'] == 'other or prefer not to say', 'statistics'], kde=True)"
   ]
  },
  {
   "attachments": {},
   "cell_type": "markdown",
   "metadata": {},
   "source": [
    "## Customization: `births` data"
   ]
  },
  {
   "attachments": {},
   "cell_type": "markdown",
   "metadata": {},
   "source": [
    "Now that we're getting the hang of this, let's see how complicated things can get. We'll return to using a line chart to look at birth patterns over time."
   ]
  },
  {
   "cell_type": "code",
   "execution_count": null,
   "metadata": {},
   "outputs": [],
   "source": [
    "# get the data\n",
    "births = pd.read_csv('https://github.com/COGS108/Lectures-Sp22/raw/master/03_ethics/data/births.csv')\n",
    "births.head()\n",
    "births.year.max()"
   ]
  },
  {
   "cell_type": "code",
   "execution_count": null,
   "metadata": {},
   "outputs": [],
   "source": [
    "from datetime import datetime\n",
    "\n",
    "# calculate values & wrangle\n",
    "quartiles = np.percentile(births['births'], [25, 50, 75])\n",
    "mu, sig = quartiles[1], 0.74 * (quartiles[2] - quartiles[0])\n",
    "births = births.query('(births > @mu - 5 * @sig) & (births < @mu + 5 * @sig)')\n",
    "\n",
    "births['day'] = births['day'].astype(int)\n",
    "\n",
    "births.index = pd.to_datetime(10000 * births.year +\n",
    "                              100 * births.month +\n",
    "                              births.day, format='%Y%m%d')\n",
    "births_by_date = births.pivot_table('births',\n",
    "                                    [births.index.month, births.index.day])\n",
    "births_by_date.index = [datetime(2012, month, day)\n",
    "                        for (month, day) in births_by_date.index]\n",
    "\n",
    "\n",
    "# plot the thing\n",
    "fig, ax = plt.subplots(figsize=(22, 5))\n",
    "births_by_date.plot(ax = ax)\n",
    "ax.get_legend().remove()\n",
    "\n",
    "# What are all those dips? Well, let's annotate the plot to get a better sense of what's going on.\n",
    "\n",
    "# plot the thing\n",
    "fig, ax = plt.subplots(figsize=(22, 7))\n",
    "births_by_date.plot(ax=ax)\n",
    "ax.get_legend().remove()\n",
    "\n",
    "# define style\n",
    "style = dict(size=16, color='gray')\n",
    "\n",
    "# add annotation\n",
    "ax.text('2012-1-1', 3950, \"New Year's Day\", **style)\n",
    "ax.text('2012-7-4', 4250, \"Independence Day\", ha='center', **style)\n",
    "ax.text('2012-9-4', 4850, \"Labor Day\", ha='center', **style)\n",
    "ax.text('2012-10-31', 4600, \"Halloween\", ha='right', **style)\n",
    "ax.text('2012-11-25', 4450, \"Thanksgiving\", ha='center', **style)\n",
    "ax.text('2012-12-25', 3850, \"Christmas \", ha='right', **style)\n",
    "\n",
    "# label the axes\n",
    "ax.set(title='USA births by day of year (1969-1988)',\n",
    "       ylabel='average daily births')\n",
    "\n",
    "# format the x axis with centered month labels\n",
    "ax.xaxis.set_major_locator(mpl.dates.MonthLocator())\n",
    "ax.xaxis.set_minor_locator(mpl.dates.MonthLocator(bymonthday=15))\n",
    "ax.xaxis.set_major_formatter(plt.NullFormatter())\n",
    "ax.xaxis.set_minor_formatter(mpl.dates.DateFormatter('%h'))"
   ]
  },
  {
   "attachments": {},
   "cell_type": "markdown",
   "metadata": {},
   "source": [
    "Annotation directly on plots can help explain the plot to viewers."
   ]
  },
  {
   "attachments": {},
   "cell_type": "markdown",
   "metadata": {},
   "source": [
    "## Saving Plots\n",
    "\n",
    "While we're using a Jupyter notebook right now, you won't always be. So, you'll need to know how to save figures."
   ]
  },
  {
   "cell_type": "code",
   "execution_count": null,
   "metadata": {},
   "outputs": [],
   "source": [
    "# save fig to plots directory\n",
    "# this will only work if you have \n",
    "# a plots directory in your working directory\n",
    "fig.savefig('images/my_figure.png', dpi=300)"
   ]
  },
  {
   "attachments": {},
   "cell_type": "markdown",
   "metadata": {},
   "source": [
    "Note that the file format is inferred from the extension you specify in the filename.\n",
    "\n",
    "To see which file types are supported:"
   ]
  },
  {
   "cell_type": "code",
   "execution_count": null,
   "metadata": {},
   "outputs": [],
   "source": [
    "fig.canvas.get_supported_filetypes()"
   ]
  },
  {
   "attachments": {},
   "cell_type": "markdown",
   "metadata": {},
   "source": [
    "## Viewing Saved Plots\n",
    "\n",
    "Once a plot is saved, it may be helpful to view it through IPython or your notebook. To do so, you'd use the following:\n",
    "\n",
    "Can import with Markdown formatting... (or with HTML in a markdown cell)"
   ]
  },
  {
   "cell_type": "code",
   "execution_count": null,
   "metadata": {},
   "outputs": [],
   "source": [
    "# to see contents of a saved image\n",
    "from IPython.display import Image\n",
    "Image('https://github.com/COGS108/Lectures-Sp22/raw/master/03_ethics/images/my_figure.png')"
   ]
  }
 ],
 "metadata": {
  "kernelspec": {
   "display_name": "Python 3",
   "language": "python",
   "name": "python3"
  },
  "language_info": {
   "codemirror_mode": {
    "name": "ipython",
    "version": 3
   },
   "file_extension": ".py",
   "mimetype": "text/x-python",
   "name": "python",
   "nbconvert_exporter": "python",
   "pygments_lexer": "ipython3",
   "version": "3.10.3"
  },
  "orig_nbformat": 4,
  "vscode": {
   "interpreter": {
    "hash": "3fe2205da32040b154459eec850e3f422ef2283e8249ac36b1b4a45364cc60d7"
   }
  }
 },
 "nbformat": 4,
 "nbformat_minor": 2
}
