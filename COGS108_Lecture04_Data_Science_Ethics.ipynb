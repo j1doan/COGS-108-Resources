{
 "cells": [
  {
   "attachments": {},
   "cell_type": "markdown",
   "metadata": {},
   "source": [
    "# Lecture 4: Data Science Ethics"
   ]
  },
  {
   "attachments": {},
   "cell_type": "markdown",
   "metadata": {},
   "source": [
    "Big data and analytics technology can reap huge benefits to both individuals and organizations - bringing personalized service, detection of fraud and abuse, efficient use of resources and prevention of failure or accident. So why are there questions being raised about the ethics of data science?"
   ]
  },
  {
   "attachments": {},
   "cell_type": "markdown",
   "metadata": {},
   "source": [
    "## COGS 9 Examples\n",
    "\n",
    "* OKCupid Data Published\n",
    "* Equifax Hack\n",
    "* Google and Pentagon Team Up on Drones\n",
    "* Amazon and Police Team up on Facial Recognition and Surveillance\n",
    "* Amazon scraps secret AI recruiting tool biased against women"
   ]
  },
  {
   "attachments": {},
   "cell_type": "markdown",
   "metadata": {},
   "source": [
    "## Ethics\n",
    "\n",
    "Always consider ethics.\n",
    "\n",
    "\"Moral principles that govern a person's behavior or the conducting of an activity.\""
   ]
  },
  {
   "attachments": {},
   "cell_type": "markdown",
   "metadata": {},
   "source": [
    "## Ethical Data Science\n",
    "\n",
    "Data science pursued in a manner so that it is equitable, with respect for privacy and consent so as to ensure that it does not cause any harm."
   ]
  },
  {
   "attachments": {},
   "cell_type": "markdown",
   "metadata": {},
   "source": [
    "## On Intent and Objectivity\n",
    "\n",
    "* Intent is not required for harmful practices to occur\n",
    "* Data, algorithms, and analysis are not objective\n",
    "    * It is done by people, who have biases\n",
    "    * It uses data, which have biases\n",
    "* Data science is powerful\n",
    "* Bias and discrimination driven by data and algoritms can give new scale to pre-exisisting inequities, can create new inequalities that never existed"
   ]
  },
  {
   "attachments": {},
   "cell_type": "markdown",
   "metadata": {},
   "source": [
    "## 9 Things to Consider to Not Ruin People's Lives With Data Science\n",
    "\n",
    "1. The Question\n",
    "2. The Implications\n",
    "3. The Data\n",
    "4. Informed Consent\n",
    "5. Privacy\n",
    "6. Evaluation\n",
    "7. Analysis\n",
    "8. Transparency and Appeal\n",
    "9. Continuous Monitoring"
   ]
  },
  {
   "attachments": {},
   "cell_type": "markdown",
   "metadata": {},
   "source": [
    "## The Question\n",
    "\n",
    "* What is your question? Is it well-posed?\n",
    "* Do you know something about the context and background of your question?\n",
    "* What is the scope of your investigation? What correlates might you inadverdently track? It is possible to answer this question well?\n",
    "\n",
    "**Case Study: Detecting Criminality From Faces**\n",
    "\n",
    "**Case Study: Detecting Sexual Orientation From Faces with Computer Vision**"
   ]
  },
  {
   "attachments": {},
   "cell_type": "markdown",
   "metadata": {},
   "source": [
    "## The Implications\n",
    "\n",
    "* Who are the stakeholders? How does this affect them?\n",
    "* Could the information you will gain and/or the tool you are building be co-opted for nefarious purposes?\n",
    "    * If so, can you protect them from that?\n",
    "* Have you considered potential unintended consequences?\n",
    "\n",
    "**Case study: Abuse of social networks**\n",
    "\n",
    "Facebook has been co-opted by military personnel to spread misinformation, hate speech, and promote ethnic cleansing."
   ]
  },
  {
   "attachments": {},
   "cell_type": "markdown",
   "metadata": {},
   "source": [
    "## The Data\n",
    "\n",
    "* Is there data availiable? Is this data directly related to your question, or only potentially related through proxies?\n",
    "* Who do you have the data from?\n",
    "* Do you have enough data to make reliable inferences?\n",
    "* What biases does your data have?\n",
    "* If you do not have, and can not get, enough good, appropriate data, you may just have to stop.\n",
    "\n",
    "**Case Study: Biomedical Science**\n",
    "\n",
    "* biomedical research has often excluded female subjects\n",
    "* This was based on a (fauty) assumption that females would be more variable\n",
    "* These findings do not generalize as well\n",
    "\n",
    "**Suggested Reading**: Consumer Privacy Act"
   ]
  },
  {
   "attachments": {},
   "cell_type": "markdown",
   "metadata": {},
   "source": [
    "## Informed Consent\n",
    "\n",
    "* The voluntary agreement to participate in research, in which the subject has an understanding of the research and its risks\n",
    "* Informed consent can be withdrawn at any point in time\n",
    "\n",
    "**Case Study: Emotional Contagion**\n",
    "\n",
    "Facebook conducted an experiment investigating whether they could manipulate people's emotions by manipulating the content displayed on one's newsfeed."
   ]
  },
  {
   "attachments": {},
   "cell_type": "markdown",
   "metadata": {},
   "source": [
    "## Privacy\n",
    "\n",
    "* Can you guarantee privacy?\n",
    "* What is the level of risk of your data, and how will you mitigate the risks? Are all subjects equally vulnerable?\n",
    "* Anonymization: the process of removing personally identifiabe information from datasets (PII)\n",
    "* Use secure data storage, with appropriate access rights\n",
    "\n",
    "**Case Study: Running Data**\n",
    "\n",
    "Strave, a company who made an app that released running data, geotagged from around the world - gave away the location of secret US army bases.\n",
    "\n",
    "**Case Study: 15 worst data breaches of the 21st centruy**\n",
    "\n",
    "* Companies to Exmaine: Yahoo, Alibaba, LinkedIn, Facebook, Mariott, yahoo, MySpace, Adobe, and more\n",
    "* **Yahoo (2013):** Announced in December 2016. account information of more than a billion customers had been accessed by a hacking group. Actual figures of user accounts exposed was 3 million.\n",
    "* **LinkedIn (2021):** 700 million users posted on a dark web forum in June 2021, impacting more than 90% of its user base.\n",
    "* **Facebook (April 2009):** 2 datasets form Facebook exposed to the public internet. More than 530 million Facebook users and included phone numbers, account names, and Facebook IDs. Later posted online.\n",
    "* **Adobe (2013):** Appears to include more than 150 million username and hashed passwords pairs taken from Adobe. Hack had also exposed customer names, passowrd, and debit and credit card information."
   ]
  },
  {
   "attachments": {},
   "cell_type": "markdown",
   "metadata": {},
   "source": [
    "## Evaluation\n",
    "\n",
    "* How will you evaluate the project?\n",
    "    * Do you have a verifiable metric of success?\n",
    "* Goodheart's Law: When a measure becomes a target, it ceases to be a good measure\n",
    "\n",
    "**Case Study: Teacher Rating**\n",
    "\n",
    "Washington, DC schoold district used an algoritm to rate teachers, based on test scores. Scores from this algorithm were used to fire \"low performers\". They has no independent measure of whether this measure improved teaching."
   ]
  },
  {
   "attachments": {},
   "cell_type": "markdown",
   "metadata": {},
   "source": [
    "## Analysis\n",
    "\n",
    "* Do your analysis reflect spurious correlations?\n",
    "    * Remember the rule: \"Correlation does not equal causation\"\n",
    "* What kind of covariates might you be tracking?\n",
    "    * Are you inferring latent variables from proxies?\n",
    "\n",
    "**Example**\n",
    "* Four types of logical errors:\n",
    "    * Third unobserved variabloe\n",
    "    * X might not cause Y, Y might cause X\n",
    "    * Sample size/selection\n",
    "        * Height bias - you might think the average male height is 182.9 cm (~6ft), but that is if you sample from the Netherlands\n",
    "    * Measuremnet Error\n",
    "        * People at the front of the room example"
   ]
  },
  {
   "attachments": {},
   "cell_type": "markdown",
   "metadata": {},
   "source": [
    "## Transparency and Appeal\n",
    "\n",
    "* Is your model a black box?\n",
    "    * Is it interpretable as to how it came to any particular decision?\n",
    "* Is there a way to appeal a model decision?\n",
    "    * What kind of evidence would you need to refute a decision?\n",
    "\n",
    "**Case Study: Predictive Policing**\n",
    "\n",
    "* Predictive policing uses algorithms to predict crime, and recidivism\n",
    "* Input data can be highly correlated with race and SES, reflecting spurious corelations and leading to discriminatory decisions\n",
    "* These algorithms and decisions are often opaque and un-appealable"
   ]
  },
  {
   "attachments": {},
   "cell_type": "markdown",
   "metadata": {},
   "source": [
    "## Continuous Monitoring\n",
    "\n",
    "* Healthy models maintain a bakc and forth with the thing(s) in the world they are trying to understand\n",
    "* Are you tracking for changes related to your data, assumpttions, and evaluation metrics?\n",
    "* Are you proactively looking for potential unintended side effects of your model itself of harmful outputs?\n",
    "* Do you have a mechanisms to fix and update your algorithm?\n",
    "\n",
    "**Case Study: News Sharing**\n",
    "\n",
    "* Facebook is continuously making predictions about what you are going to do, which it uses to try to influence behavior and then update its models based on the results\n",
    "* Models optimize for engagement and sharing - can promote the spreading of misinformation"
   ]
  },
  {
   "attachments": {},
   "cell_type": "markdown",
   "metadata": {},
   "source": [
    "## On Systems and incentive Structures\n",
    "\n",
    "* Novel systems are not, *de facto* eequalizers. htey will tend toward propagating existing inequalities.\n",
    "* Companies working on these concerns may have conflicts of interest with respect to the incentive structures imposed by the system and/or the business"
   ]
  },
  {
   "attachments": {},
   "cell_type": "markdown",
   "metadata": {},
   "source": [
    "## On Perpetuating Inequality\n",
    "\n",
    "* Data and algoritms can and will entrench social disparities\n",
    "    * Your care and efforts can offset this\n",
    "* Errors and bias tpyically target the disenfranchised\n",
    "    * Use rigourous methods to minimize this, also intuition\n",
    "* The combination of damage, scale, and opacity can be incredibly destructive\n",
    "* They can introduce feedback in such a way as to enact self-fufilling prophecies"
   ]
  },
  {
   "attachments": {},
   "cell_type": "markdown",
   "metadata": {},
   "source": [
    "## Putting It All Together\n",
    "\n",
    "* Well-posed question that you know something about\n",
    "* Have considered implications of work\n",
    "* Adequate data, covering population of interest, with known and manageable issues\n",
    "* Allowed to use the data\n",
    "* Have de-identified the data, stored securely\n",
    "* defined metrics for success, objectively measured\n",
    "* Cannot establish causality with certainty\n",
    "* Model is understandable, has procedure for appeal\n",
    "* Will monitor system for changes, have way and plan to update"
   ]
  },
  {
   "attachments": {},
   "cell_type": "markdown",
   "metadata": {},
   "source": [
    "## How to be Bad with Data Science\n",
    "\n",
    "* Ill-posed quesiton you know nothing about\n",
    "* Don't consider implications\n",
    "* Haphazardly collected biased data\n",
    "* Didn't check or are not allowed to use data for this purpose\n",
    "* Un-anonymized, identificable data stored insecurely\n",
    "* No clear metric for success (meh, \"it seems to work\")\n",
    "* Present spurious correlations as meaningful\n",
    "* Model is a black box, no method for appeal in place\n",
    "* No monitoring, no way to identify biases or update model"
   ]
  },
  {
   "attachments": {},
   "cell_type": "markdown",
   "metadata": {},
   "source": [
    "## Integrity\n",
    "\n",
    "* Integrity is very important\n",
    "* It can help you make decisions when life gets murky\n",
    "* Maintain your integrity\n",
    "* It is difficult to get back once lost (but possible)\n",
    "* One particular position is less important than your integrity"
   ]
  }
 ],
 "metadata": {
  "kernelspec": {
   "display_name": "Python 3",
   "language": "python",
   "name": "python3"
  },
  "language_info": {
   "name": "python",
   "version": "3.10.3 (tags/v3.10.3:a342a49, Mar 16 2022, 13:07:40) [MSC v.1929 64 bit (AMD64)]"
  },
  "orig_nbformat": 4,
  "vscode": {
   "interpreter": {
    "hash": "3fe2205da32040b154459eec850e3f422ef2283e8249ac36b1b4a45364cc60d7"
   }
  }
 },
 "nbformat": 4,
 "nbformat_minor": 2
}
